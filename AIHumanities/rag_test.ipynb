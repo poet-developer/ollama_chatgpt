{
 "cells": [
  {
   "cell_type": "markdown",
   "metadata": {},
   "source": [
    "# Ollama를 활용한 LLM prompt engineering 기초"
   ]
  },
  {
   "cell_type": "markdown",
   "metadata": {},
   "source": [
    "- 작성자 임이로 bkksg.studio@gmail.com\n",
    "- python 3.12.3사용중"
   ]
  },
  {
   "cell_type": "code",
   "execution_count": 1,
   "metadata": {},
   "outputs": [
    {
     "name": "stdout",
     "output_type": "stream",
     "text": [
      "Mon Sep 15 15:15:44 2025       \n",
      "+-----------------------------------------------------------------------------------------+\n",
      "| NVIDIA-SMI 570.86.15              Driver Version: 570.86.15      CUDA Version: 12.8     |\n",
      "|-----------------------------------------+------------------------+----------------------+\n",
      "| GPU  Name                 Persistence-M | Bus-Id          Disp.A | Volatile Uncorr. ECC |\n",
      "| Fan  Temp   Perf          Pwr:Usage/Cap |           Memory-Usage | GPU-Util  Compute M. |\n",
      "|                                         |                        |               MIG M. |\n",
      "|=========================================+========================+======================|\n",
      "|   0  NVIDIA A100-PCIE-40GB          Off |   00000000:49:00.0 Off |                    0 |\n",
      "| N/A   30C    P0             32W /  250W |       1MiB /  40960MiB |     N/A      Default |\n",
      "|                                         |                        |             Disabled |\n",
      "+-----------------------------------------+------------------------+----------------------+\n",
      "                                                                                         \n",
      "+-----------------------------------------------------------------------------------------+\n",
      "| Processes:                                                                              |\n",
      "|  GPU   GI   CI              PID   Type   Process name                        GPU Memory |\n",
      "|        ID   ID                                                               Usage      |\n",
      "|=========================================================================================|\n",
      "|  No running processes found                                                             |\n",
      "+-----------------------------------------------------------------------------------------+\n",
      "py 3.12.3 (main, Nov  6 2024, 18:32:19) [GCC 13.2.0]\n",
      "cuda? True\n"
     ]
    }
   ],
   "source": [
    "!nvidia-smi #NVIDIA GPU 상태를 보여주는 표준 유틸리티. # MIG(Multi-Instance GPU) : Disabled\n",
    "!python -c \"import torch,platform,sys; print('py',sys.version); print('cuda?',torch.cuda.is_available())\" #True면 PyTorch가 GPU(CUDA-그래픽카드를 ai연산에 사용하기 위함) 버전을 잘 찾았다는 뜻."
   ]
  },
  {
   "cell_type": "markdown",
   "metadata": {},
   "source": [
    "#### ollama를 클라우드 서버에 설치"
   ]
  },
  {
   "cell_type": "code",
   "execution_count": 2,
   "metadata": {},
   "outputs": [
    {
     "name": "stdout",
     "output_type": "stream",
     "text": [
      ">>> Installing ollama to /usr/local\n",
      ">>> Downloading Linux amd64 bundle\n",
      "######################################################################## 100.0%\n",
      ">>> Creating ollama user...\n",
      ">>> Adding ollama user to render group...\n",
      ">>> Adding ollama user to video group...\n",
      ">>> Adding current user to ollama group...\n",
      ">>> Creating ollama systemd service...\n",
      "\u001b[1m\u001b[31mWARNING:\u001b[m systemd is not running\n",
      ">>> NVIDIA GPU installed.\n",
      ">>> The Ollama API is now available at 127.0.0.1:11434.\n",
      ">>> Install complete. Run \"ollama\" from the command line.\n"
     ]
    }
   ],
   "source": [
    "!curl -fsSL https://ollama.com/install.sh | sh #https://ollama.com/ "
   ]
  },
  {
   "cell_type": "markdown",
   "metadata": {},
   "source": [
    "#### ollama serve 시작"
   ]
  },
  {
   "cell_type": "code",
   "execution_count": 3,
   "metadata": {},
   "outputs": [],
   "source": [
    "import subprocess, os\n",
    "# subprocess : 외부 명령어나 프로그램을 파이썬 코드에서 실행할 수 있게 해주는 모듈.\n",
    "# os : 운영체제 관련 작업을 할 때 쓰는 모듈. / 환경변수 설정, 디렉토리 만들기/바꾸기, 경로 조작 등에 활용."
   ]
  },
  {
   "cell_type": "code",
   "execution_count": 4,
   "metadata": {},
   "outputs": [],
   "source": [
    "# # GPU 환경변수 설정 후 서버 실행\n",
    "# !export OLLAMA_USE_GPU=1\n",
    "# # 선택: 특정 GPU만 쓰려면 (예: 0번 GPU만)\n",
    "# !export CUDA_VISIBLE_DEVICES=0\n",
    "\n",
    "os.environ[\"OLLAMA_USE_GPU\"] = \"1\"\n",
    "os.environ[\"CUDA_VISIBLE_DEVICES\"] = \"0\"  # 필요 시 선택"
   ]
  },
  {
   "cell_type": "code",
   "execution_count": 5,
   "metadata": {},
   "outputs": [
    {
     "data": {
      "text/plain": [
       "<Popen: returncode: None args: ['ollama', 'serve']>"
      ]
     },
     "execution_count": 5,
     "metadata": {},
     "output_type": "execute_result"
    },
    {
     "name": "stdout",
     "output_type": "stream",
     "text": [
      "Couldn't find '/home/work/.ollama/id_ed25519'. Generating new private key.\n",
      "Your new public key is: \n",
      "\n",
      "ssh-ed25519 AAAAC3NzaC1lZDI1NTE5AAAAIINpn53fRcXFz8a0VCAuXHHRJTFvAWCAo8JZDldyG8Yi\n",
      "\n"
     ]
    },
    {
     "name": "stderr",
     "output_type": "stream",
     "text": [
      "time=2025-09-15T15:18:11.576+09:00 level=INFO source=routes.go:1331 msg=\"server config\" env=\"map[CUDA_VISIBLE_DEVICES:0 GPU_DEVICE_ORDINAL: HIP_VISIBLE_DEVICES: HSA_OVERRIDE_GFX_VERSION: HTTPS_PROXY: HTTP_PROXY: NO_PROXY: OLLAMA_CONTEXT_LENGTH:4096 OLLAMA_DEBUG:INFO OLLAMA_FLASH_ATTENTION:false OLLAMA_GPU_OVERHEAD:0 OLLAMA_HOST:http://127.0.0.1:11434 OLLAMA_INTEL_GPU:false OLLAMA_KEEP_ALIVE:5m0s OLLAMA_KV_CACHE_TYPE: OLLAMA_LLM_LIBRARY: OLLAMA_LOAD_TIMEOUT:5m0s OLLAMA_MAX_LOADED_MODELS:0 OLLAMA_MAX_QUEUE:512 OLLAMA_MODELS:../../ollama OLLAMA_MULTIUSER_CACHE:false OLLAMA_NEW_ENGINE:false OLLAMA_NEW_ESTIMATES:false OLLAMA_NOHISTORY:false OLLAMA_NOPRUNE:false OLLAMA_NUM_PARALLEL:1 OLLAMA_ORIGINS:[http://localhost https://localhost http://localhost:* https://localhost:* http://127.0.0.1 https://127.0.0.1 http://127.0.0.1:* https://127.0.0.1:* http://0.0.0.0 https://0.0.0.0 http://0.0.0.0:* https://0.0.0.0:* app://* file://* tauri://* vscode-webview://* vscode-file://*] OLLAMA_SCHED_SPREAD:false ROCR_VISIBLE_DEVICES: http_proxy: https_proxy: no_proxy:]\"\n",
      "time=2025-09-15T15:18:11.588+09:00 level=INFO source=images.go:477 msg=\"total blobs: 10\"\n",
      "time=2025-09-15T15:18:11.591+09:00 level=INFO source=images.go:484 msg=\"total unused blobs removed: 0\"\n",
      "time=2025-09-15T15:18:11.594+09:00 level=INFO source=routes.go:1384 msg=\"Listening on 127.0.0.1:11434 (version 0.11.10)\"\n",
      "time=2025-09-15T15:18:11.594+09:00 level=INFO source=gpu.go:217 msg=\"looking for compatible GPUs\"\n",
      "time=2025-09-15T15:18:12.051+09:00 level=INFO source=types.go:131 msg=\"inference compute\" id=GPU-9fc64c71-9800-370c-ee71-f6a0a869bc7a library=cuda variant=v12 compute=8.0 driver=12.8 name=\"NVIDIA A100-PCIE-40GB\" total=\"39.5 GiB\" available=\"39.1 GiB\"\n"
     ]
    }
   ],
   "source": [
    "# 주피터 프로세스 자체의 환경변수 수정\n",
    "os.environ[\"OLLAMA_MODELS\"] = \"../../ollama\"\n",
    "\n",
    "# serve 띄울 때도 같은 os.environ 사용\n",
    "subprocess.Popen([\"ollama\", \"serve\"], env=os.environ)\n"
   ]
  },
  {
   "cell_type": "code",
   "execution_count": 6,
   "metadata": {},
   "outputs": [
    {
     "name": "stdout",
     "output_type": "stream",
     "text": [
      "[GIN] 2025/09/15 - 15:18:28 | 200 |      64.034µs |       127.0.0.1 | HEAD     \"/\"\n",
      "[GIN] 2025/09/15 - 15:18:28 | 200 |    3.606557ms |       127.0.0.1 | GET      \"/api/tags\"\n",
      "NAME           ID              SIZE     MODIFIED       \n",
      "gemma3:27b     a418f5838eaf    17 GB    40 minutes ago    \n",
      "gpt-oss:20b    aa4295ac10c3    13 GB    8 days ago        \n"
     ]
    }
   ],
   "source": [
    "!ollama list"
   ]
  },
  {
   "cell_type": "markdown",
   "metadata": {},
   "source": [
    "#### ollama server 종료"
   ]
  },
  {
   "cell_type": "code",
   "execution_count": 41,
   "metadata": {},
   "outputs": [
    {
     "data": {
      "text/plain": [
       "CompletedProcess(args=['pkill', '-f', 'ollama serve'], returncode=0)"
      ]
     },
     "execution_count": 41,
     "metadata": {},
     "output_type": "execute_result"
    }
   ],
   "source": [
    "\n",
    "subprocess.run([\"pkill\", \"-f\", \"ollama serve\"], check=False)"
   ]
  },
  {
   "cell_type": "markdown",
   "metadata": {},
   "source": [
    "#### ollama pull llm"
   ]
  },
  {
   "cell_type": "code",
   "execution_count": 7,
   "metadata": {},
   "outputs": [
    {
     "name": "stdout",
     "output_type": "stream",
     "text": [
      "[GIN] 2025/09/15 - 15:18:41 | 200 |      29.554µs |       127.0.0.1 | HEAD     \"/\"\n"
     ]
    },
    {
     "name": "stderr",
     "output_type": "stream",
     "text": [
      "\u001b[?2026h\u001b[?25l\u001b[1Gpulling manifest ⠋ \u001b[K\u001b[?25h\u001b[?2026l\u001b[?2026h\u001b[?25l\u001b[1Gpulling manifest ⠙ \u001b[K\u001b[?25h\u001b[?2026l\u001b[?2026h\u001b[?25l\u001b[1Gpulling manifest ⠹ \u001b[K\u001b[?25h\u001b[?2026l\u001b[?2026h\u001b[?25l\u001b[1Gpulling manifest ⠸ \u001b[K\u001b[?25h\u001b[?2026l\u001b[?2026h\u001b[?25l\u001b[1Gpulling manifest ⠼ \u001b[K\u001b[?25h\u001b[?2026l\u001b[?2026h\u001b[?25l\u001b[1Gpulling manifest ⠴ \u001b[K\u001b[?25h\u001b[?2026l"
     ]
    },
    {
     "name": "stdout",
     "output_type": "stream",
     "text": [
      "[GIN] 2025/09/15 - 15:18:42 | 200 |  736.539542ms |       127.0.0.1 | POST     \"/api/pull\"\n"
     ]
    },
    {
     "name": "stderr",
     "output_type": "stream",
     "text": [
      "\u001b[?2026h\u001b[?25l\u001b[1Gpulling manifest ⠦ \u001b[K\u001b[?25h\u001b[?2026l\u001b[?2026h\u001b[?25l\u001b[1Gpulling manifest \u001b[K\n",
      "pulling b112e727c6f1: 100% ▕██████████████████▏  13 GB                         \u001b[K\n",
      "pulling fa6710a93d78: 100% ▕██████████████████▏ 7.2 KB                         \u001b[K\n",
      "pulling f60356777647: 100% ▕██████████████████▏  11 KB                         \u001b[K\n",
      "pulling d8ba2f9a17b3: 100% ▕██████████████████▏   18 B                         \u001b[K\n",
      "pulling 55c108d8e936: 100% ▕██████████████████▏  489 B                         \u001b[K\n",
      "verifying sha256 digest \u001b[K\n",
      "writing manifest \u001b[K\n",
      "success \u001b[K\u001b[?25h\u001b[?2026l\n"
     ]
    },
    {
     "data": {
      "text/plain": [
       "CompletedProcess(args=['ollama', 'pull', 'gpt-oss:20b'], returncode=0)"
      ]
     },
     "execution_count": 7,
     "metadata": {},
     "output_type": "execute_result"
    }
   ],
   "source": [
    "# 모델 풀\n",
    "subprocess.run([\"ollama\", \"pull\", \"gpt-oss:20b\"], check=True, env=os.environ)"
   ]
  },
  {
   "cell_type": "code",
   "execution_count": 8,
   "metadata": {},
   "outputs": [
    {
     "name": "stdout",
     "output_type": "stream",
     "text": [
      "[GIN] 2025/09/15 - 15:18:45 | 200 |      27.096µs |       127.0.0.1 | HEAD     \"/\"\n"
     ]
    },
    {
     "name": "stderr",
     "output_type": "stream",
     "text": [
      "\u001b[?2026h\u001b[?25l\u001b[1Gpulling manifest ⠋ \u001b[K\u001b[?25h\u001b[?2026l\u001b[?2026h\u001b[?25l\u001b[1Gpulling manifest ⠙ \u001b[K\u001b[?25h\u001b[?2026l\u001b[?2026h\u001b[?25l\u001b[1Gpulling manifest ⠹ \u001b[K\u001b[?25h\u001b[?2026l\u001b[?2026h\u001b[?25l\u001b[1Gpulling manifest ⠸ \u001b[K\u001b[?25h\u001b[?2026l\u001b[?2026h\u001b[?25l\u001b[1Gpulling manifest ⠼ \u001b[K\u001b[?25h\u001b[?2026l\u001b[?2026h\u001b[?25l\u001b[1Gpulling manifest ⠴ \u001b[K\u001b[?25h\u001b[?2026l"
     ]
    },
    {
     "name": "stdout",
     "output_type": "stream",
     "text": [
      "[GIN] 2025/09/15 - 15:18:46 | 200 |  723.641178ms |       127.0.0.1 | POST     \"/api/pull\"\n"
     ]
    },
    {
     "name": "stderr",
     "output_type": "stream",
     "text": [
      "\u001b[?2026h\u001b[?25l\u001b[1Gpulling manifest ⠦ \u001b[K\u001b[?25h\u001b[?2026l\u001b[?2026h\u001b[?25l\u001b[1Gpulling manifest \u001b[K\n",
      "pulling e796792eba26: 100% ▕██████████████████▏  17 GB                         \u001b[K\n",
      "pulling e0a42594d802: 100% ▕██████████████████▏  358 B                         \u001b[K\n",
      "pulling dd084c7d92a3: 100% ▕██████████████████▏ 8.4 KB                         \u001b[K\n",
      "pulling 3116c5225075: 100% ▕██████████████████▏   77 B                         \u001b[K\n",
      "pulling f838f048d368: 100% ▕██████████████████▏  490 B                         \u001b[K\n",
      "verifying sha256 digest \u001b[K\n",
      "writing manifest \u001b[K\n",
      "success \u001b[K\u001b[?25h\u001b[?2026l\n"
     ]
    },
    {
     "data": {
      "text/plain": [
       "CompletedProcess(args=['ollama', 'pull', 'gemma3:27b'], returncode=0)"
      ]
     },
     "execution_count": 8,
     "metadata": {},
     "output_type": "execute_result"
    }
   ],
   "source": [
    "# 모델 풀\n",
    "subprocess.run([\"ollama\", \"pull\", \"gemma3:27b\"], check=True, env=os.environ)"
   ]
  },
  {
   "cell_type": "markdown",
   "metadata": {},
   "source": [
    "### ollama - gpt-oss:20b"
   ]
  },
  {
   "cell_type": "code",
   "execution_count": 9,
   "metadata": {},
   "outputs": [
    {
     "name": "stdout",
     "output_type": "stream",
     "text": [
      "\u001b[33mDEPRECATION: Loading egg at /usr/local/lib/python3.12/dist-packages/bitsandbytes-0.45.4.dev0-py3.12-linux-x86_64.egg is deprecated. pip 25.1 will enforce this behaviour change. A possible replacement is to use pip for package installation. Discussion can be found at https://github.com/pypa/pip/issues/12330\u001b[0m\u001b[33m\n",
      "\u001b[0m\u001b[33mDEPRECATION: Loading egg at /usr/local/lib/python3.12/dist-packages/nvfuser-0.2.23a0+6627725-py3.12-linux-x86_64.egg is deprecated. pip 25.1 will enforce this behaviour change. A possible replacement is to use pip for package installation. Discussion can be found at https://github.com/pypa/pip/issues/12330\u001b[0m\u001b[33m\n",
      "\u001b[0m\u001b[33mDEPRECATION: Loading egg at /usr/local/lib/python3.12/dist-packages/lightning_utilities-0.12.0.dev0-py3.12.egg is deprecated. pip 25.1 will enforce this behaviour change. A possible replacement is to use pip for package installation. Discussion can be found at https://github.com/pypa/pip/issues/12330\u001b[0m\u001b[33m\n",
      "\u001b[0m\u001b[33mDEPRECATION: Loading egg at /usr/local/lib/python3.12/dist-packages/looseversion-1.3.0-py3.12.egg is deprecated. pip 25.1 will enforce this behaviour change. A possible replacement is to use pip for package installation. Discussion can be found at https://github.com/pypa/pip/issues/12330\u001b[0m\u001b[33m\n",
      "\u001b[0m\u001b[33mDEPRECATION: Loading egg at /usr/local/lib/python3.12/dist-packages/lightning_thunder-0.2.0.dev0-py3.12.egg is deprecated. pip 25.1 will enforce this behaviour change. A possible replacement is to use pip for package installation. Discussion can be found at https://github.com/pypa/pip/issues/12330\u001b[0m\u001b[33m\n",
      "\u001b[0m\u001b[33mDEPRECATION: Loading egg at /usr/local/lib/python3.12/dist-packages/bitsandbytes-0.45.4.dev0-py3.12-linux-x86_64.egg is deprecated. pip 25.1 will enforce this behaviour change. A possible replacement is to use pip for package installation. Discussion can be found at https://github.com/pypa/pip/issues/12330\u001b[0m\u001b[33m\n",
      "\u001b[0m\u001b[33mDEPRECATION: Loading egg at /usr/local/lib/python3.12/dist-packages/nvfuser-0.2.23a0+6627725-py3.12-linux-x86_64.egg is deprecated. pip 25.1 will enforce this behaviour change. A possible replacement is to use pip for package installation. Discussion can be found at https://github.com/pypa/pip/issues/12330\u001b[0m\u001b[33m\n",
      "\u001b[0m\u001b[33mDEPRECATION: Loading egg at /usr/local/lib/python3.12/dist-packages/lightning_utilities-0.12.0.dev0-py3.12.egg is deprecated. pip 25.1 will enforce this behaviour change. A possible replacement is to use pip for package installation. Discussion can be found at https://github.com/pypa/pip/issues/12330\u001b[0m\u001b[33m\n",
      "\u001b[0m\u001b[33mDEPRECATION: Loading egg at /usr/local/lib/python3.12/dist-packages/looseversion-1.3.0-py3.12.egg is deprecated. pip 25.1 will enforce this behaviour change. A possible replacement is to use pip for package installation. Discussion can be found at https://github.com/pypa/pip/issues/12330\u001b[0m\u001b[33m\n",
      "\u001b[0m\u001b[33mDEPRECATION: Loading egg at /usr/local/lib/python3.12/dist-packages/lightning_thunder-0.2.0.dev0-py3.12.egg is deprecated. pip 25.1 will enforce this behaviour change. A possible replacement is to use pip for package installation. Discussion can be found at https://github.com/pypa/pip/issues/12330\u001b[0m\u001b[33m\n",
      "\u001b[0m"
     ]
    }
   ],
   "source": [
    "!pip install -q langchain langchain-ollama\n",
    "# 🔧 LangChain + Ollama 연동용 패키지 설치\n",
    "# - langchain: 최신 LangChain 코어\n",
    "# - langchain-ollama: Ollama 전용 커넥터\n",
    "!pip install -q langchain-community\n",
    "# 🔧 추가: community 모듈 설치 (체인/에이전트 등 확장 기능)"
   ]
  },
  {
   "cell_type": "code",
   "execution_count": 17,
   "metadata": {},
   "outputs": [
    {
     "name": "stdout",
     "output_type": "stream",
     "text": [
      "[GIN] 2025/09/15 - 15:26:18 | 200 | 29.693866738s |       127.0.0.1 | POST     \"/api/generate\"\n",
      "## 장곡사 미륵불 괘불탱이란?\n",
      "\n",
      "**장곡사**(장곡산에 위치한 고찰) 안에 보존돼 있는 “미륵불 괘불탱”은 한국 불교 예술과 건축의 고전적 정수를 담은 대표적 유물입니다.  \n",
      "간단히 말하면, **미륵불(미래 보살)을 모신 석탑**이자 **불상을 수용하기 위해 제작된 ‘괘불탱’**이라는 건축형식의 예입니다. 아래에서 상세히 설명하겠습니다.\n",
      "\n",
      "---\n",
      "\n",
      "### 1. 용어 정리\n",
      "\n",
      "| 용어 | 뜻 | 특징 |\n",
      "|------|----|------|\n",
      "| **미륵불** | “미래 보살”인 미륵(다시 태어날 보살) 를 나타내는 불상 | 주로 앉은 자세, 한 손에 무가 (보통 물)를 들고 있는 형상 |\n",
      "| **괘불탱** | ‘불상을 넣기 위한 탱(탑)’을 의미 | 주로 석탑형, 보통 3-4단(층) 구조, 석조가 가장 흔함 |\n",
      "| **장곡사** | 경상북도 경주에 위치한 사찰 | 삼국시대부터 이어온 오래된 사찰, 조선·경복시대에도 재건·보존된 사찰 |\n",
      "\n",
      "---\n",
      "\n",
      "### 2. 역사적 배경\n",
      "\n",
      "| 시대 | 사건 | 내용 |\n",
      "|------|------|------|\n",
      "| **신라** | 건국 | 장곡사(장곡산)에는 신라 시대부터 불교 문화가 발달했음. |\n",
      "| **고려(10세기 후반-12세기)** | 건립 | ‘미륵불 괘불탱’은 고려시대 12세기(1112‑1113년경) 세워진 것으로 추정. 당시 불교가 국가적 보호를 받으며 석탑 건축이 발전함. |\n",
      "| **조선** | 전보 | 16세기 임진왜란(1592‑1598) 이후 사찰이 크게 파괴됐으나, 장곡사는 ‘보물’이라 불리며 재건·보존되었음. |\n",
      "| **현대** | 문화재 지정 | 1971년 국보 제1015호(‘장곡사 미륵불 괘불탱’)로 지정. |\n",
      "\n",
      "---\n",
      "\n",
      "### 3. 건축·공예적 특징\n",
      "\n",
      "| 항목 | 내용 |\n",
      "|------|------|\n",
      "| **재료** | 견고한 흑암석(석회암) | 고려 시대 석탑은 주로 현지에서 채취한 흑암석을 사용 |\n",
      "| **크기** | 전 높이 약 2.7m, 기초부 직경 1.2m | 소형형 석탑으로, 내부에 불상을 수용하기 위해 설계 |\n",
      "| **단위** | 3단 (1층: 기반·다리, 2층: 중단·모루, 3층: 뿌리·상단) | 각 단마다 미세한 조각이 인상적 |\n",
      "| **장식** | *연꽃*·*보살상*·*구슬형 기둥* | 연꽃 모티프는 생명과 깨달음의 상징, 기둥의 구슬 모양은 ‘불교적인 무(無)’을 나타냄 |\n",
      "| **내부** | 미륵불상 | 미륵불은 흰색 흙돌이 아니라, 석조로 절단된 불상이며, 얼굴은 부드러운 선으로 그려져 있음. |\n",
      "\n",
      "> **특이점**: 대부분의 미륵불은 금속·목재로 제작되지만, 이 석탑 내부에 불상이 놓인 ‘미륵불 괘불탱’은 **한국에서 가장 오래된 석상 미륵불 중 하나**로 꼽힙니다.\n",
      "\n",
      "---\n",
      "\n",
      "### 4. 문화적·종교적 의미\n",
      "\n",
      "1. **불교 신앙의 재현**  \n",
      "   - 미륵불은 ‘인류를 구원할 미래 보살’로서, 무한한 자비와 희망을 상징합니다.  \n",
      "   - 탱 안에 불상을 수용함으로써 ‘불의 영혼을 보호하고 보존’하려는 의도가 드러납니다.\n",
      "\n",
      "2. **고려 시대 종교 예술의 정수**  \n",
      "   - 석조탑의 정교함과 미륵불의 예술성은 고려시대 불교 예술이 정점에 달했음을 보여 줍니다.  \n",
      "   - 또한 ‘괘불탱’은 당대의 탑 건축 기술(곡선과 단단한 절단)을 대표합니다.\n",
      "\n",
      "3. **문화유산으로서의 가치**  \n",
      "   - 국보 제1015호 지정은 국가가 이 유물을 역사와 문화의 자산으로 인정한 사례입니다.  \n",
      "   - 연구자·관광객 모두에게 불교 예술 연구의 귀중한 자료를 제공합니다.\n",
      "\n",
      "---\n",
      "\n",
      "### 5. 방문 팁\n",
      "\n",
      "| 구분 | 내용 |\n",
      "|------|------|\n",
      "| **위치** | 경상북도 경주 시청장로리(장곡산 기슭) |\n",
      "| **입장료** | 사찰 자체는 무료(다만 기부는 환영) |\n",
      "| **관람시간** | 오전 9시부터 오후 5시까지(일정에 따라 변동) |\n",
      "| **추천 일정** | 장곡사 본관 → 미륵불 괘불탱 → 보물(고려시대 유물) 전시관 → 경주 시내 탐방 |\n",
      "| **주의 사항** | 유물 보호를 위해 소음 및 큰 물건은 지양, 사진 촬영 시 조심 |\n",
      "\n",
      "---\n",
      "\n",
      "### 6. 종합 정리\n",
      "\n",
      "- **장곡사 미륵불 괘불탱**은 *미래 보살 미륵불*이 수용된 *고려시대 석조 탑*이며, 국보(제1015호)로 지정된 한국의 대표적 문화유산입니다.\n",
      "- 건축·예술적으로는 세련된 절단과 연꽃 모티프, 단계별 구조가 특징이며, 종교적으로는 무한 자비의 상징과 불교 예술의 정수를 담고 있습니다.\n",
      "- 경주에 방문하신다면, 장곡사 내부를 산책하며 이 석탑을 감상하면 한국 불교 역사와 예술에 대한 깊은 이해를 할 수 있을 것입니다.\n",
      "\n",
      "궁금한 점이 더 있으시면 언제든 물어보세요!\n"
     ]
    }
   ],
   "source": [
    "import requests # HTTP 요청을 보내기 위한 라이브러리\n",
    "\n",
    "# Ollama 서버에 텍스트 생성 요청 보내기\n",
    "resp = requests.post(\n",
    "    \"http://127.0.0.1:11434/api/generate\",  # 로컬에서 실행 중인 Ollama 서버 주소\n",
    "    json={\"model\": \"gpt-oss:20b\", # 사용할 모델 이름\n",
    "          \"prompt\": \"장곡사 미륵불 괘불탱에 대해서 설명해줘.\", # 모델에 보낼 프롬프트\n",
    "          \"stream\": False},  # 스트리밍 모드 끄기 → 결과를 한 번에 받음\n",
    "    timeout=120,  # 최대 120초까지 대기 (모델이 크면 응답이 느릴 수 있음)\n",
    ")\n",
    "# 모델이 생성한 응답 텍스트 출력\n",
    "print(resp.json()[\"response\"])"
   ]
  },
  {
   "cell_type": "code",
   "execution_count": 12,
   "metadata": {},
   "outputs": [],
   "source": [
    "from langchain_ollama import ChatOllama\n",
    "from langchain_core.messages import SystemMessage, HumanMessage\n",
    "\n",
    "# Ollama 연결\n",
    "# LangChain의 LLM 인터페이스를 사용해 Ollama를 쉽게 불러오는 방법.\n",
    "# 내부적으로도 결국 requests로 Ollama API 호출하지만, LangChain이 포맷/파싱/스트리밍을 편하게 해줌.\n",
    "llm = ChatOllama(\n",
    "    base_url=\"http://localhost:11434\",  # ollama serve가 켜져 있는 주소\n",
    "    model=\"gpt-oss:20b\",\n",
    "    temperature=0.1,\n",
    "    num_ctx=2048,\n",
    ")\n",
    "\n",
    "# from langchain_community.llms import Ollama\n",
    "# from langchain_core.messages import SystemMessage, HumanMessage\n",
    "\n",
    "# llm = Ollama(\n",
    "#     base_url=\"http://127.0.0.1:11434\",  # ollama serve 실행 중인 주소\n",
    "#     model=\"gpt-oss:20b\",\n",
    "#     temperature=0.3,\n",
    "#     num_ctx=2048,\n",
    "# )"
   ]
  },
  {
   "cell_type": "code",
   "execution_count": 13,
   "metadata": {},
   "outputs": [
    {
     "name": "stdout",
     "output_type": "stream",
     "text": [
      "[GIN] 2025/09/15 - 15:22:55 | 200 | 42.936034303s |       127.0.0.1 | POST     \"/api/chat\"\n",
      "## 장곡사(장곡사)와 미륵불 괘불탱(미륵불 괘불탱)  \n",
      "\n",
      "### 1. 장곡사란?\n",
      "- **위치**: 경기도 가평군 장곡면(남한과 북한 경계인 비무장지대(DMZ) 근처)  \n",
      "- **역사**: 7세기(고려시대 이전) 삼국시대에 창건된 사찰로, 수세기 동안 여러 차례 파괴·재건을 거쳤습니다.  \n",
      "- **의의**: 비무장지대 인근에 위치해 있어 ‘평화와 통일’의 상징으로 자주 언급됩니다. 사찰 내부에는 고대 석조 건축물과 불교 유물들이 보존돼 있어 문화재로서의 가치가 큽니다.\n",
      "\n",
      "### 2. 미륵불 괘불탱이란?\n",
      "- **정의**: ‘괘불탱(괘불탱)’은 ‘석탑’ 또는 ‘석불탑’이라는 뜻으로, 석조로 만든 작은 탑형 구조물입니다.  \n",
      "- **미륵불**: 불교에서 ‘미륵보살’은 미래에 나타나 세상을 구원할 인물로, 미륵불은 미륵보살을 상징하는 불상입니다.  \n",
      "- **미륵불 괘불탱**: 장곡사에 보존된 미륵불을 주제로 한 5층 석조 탑입니다. 8세기(고려시대 이전) 건축으로 추정되며, 한국의 대표적인 고대 석조 건축물 중 하나입니다.\n",
      "\n",
      "### 3. 건축적 특징\n",
      "| 구분 | 내용 |\n",
      "|------|------|\n",
      "| **시대** | 8세기(고려시대 이전) |\n",
      "| **형태** | 5층 석조 탑 (각층이 점점 작아지는 형태) |\n",
      "| **재료** | 화강암(석재) |\n",
      "| **높이** | 약 3.5m(정확한 측정은 변동 가능) |\n",
      "| **특징** | 각 층마다 작은 돌문이 새겨져 있으며, 상단에는 작은 돌탑(탑형) 모양이 있습니다. 미륵불을 상징하는 조각이 없지만, 미륵보살의 상징적 의미가 담겨 있습니다. |\n",
      "\n",
      "### 4. 문화재 지정\n",
      "- **문화재 번호**: 국보 제112호  \n",
      "- **지정 이유**: 고대 석조 건축물로서 예술적·역사적 가치가 높으며, 장곡사의 대표 유물로서 한국 불교 문화의 중요한 부분을 형성합니다.\n",
      "\n",
      "### 5. 장곡사와 미륵불 괘불탱의 의미\n",
      "1. **평화와 통일의 상징**  \n",
      "   - 비무장지대 인근에 위치해 있어, 미륵보살이 전하는 ‘평화와 구원’의 메시지가 더욱 강조됩니다.  \n",
      "   - 사찰 방문객들은 이곳에서 평화의 기도를 드리며, 한반도 통일을 기원합니다.\n",
      "\n",
      "2. **불교 문화의 보존**  \n",
      "   - 미륵불 괘불탱은 고대 한국 불교 건축의 정수이며, 석조 예술의 정교함을 보여줍니다.  \n",
      "   - 장곡사 내부의 다른 유물(석불, 석탑, 석조 조각 등)과 함께 한국 불교의 역사와 발전 과정을 한눈에 볼 수 있습니다.\n",
      "\n",
      "3. **관광·교육적 가치**  \n",
      "   - 장곡사는 DMZ와 가까워서 ‘평화의 사찰’로 국내외 관광객에게 인기가 많습니다.  \n",
      "   - 미륵불 괘불탱은 학생·연구자에게 고대 석조 건축과 불교 예술을 연구할 수 있는 실물 자료를 제공합니다.\n",
      "\n",
      "### 6. 방문 팁\n",
      "- **교통**: 경기도 가평군 장곡면으로 가는 버스(가평·양평·인천 등)와 자가용이 가장 편리합니다.  \n",
      "- **입장료**: 사찰 입장료는 무료이며, 기부금은 사찰 운영에 사용됩니다.  \n",
      "- **주변**: DMZ 투어와 연계해 방문하면, 비무장지대와 장곡사의 역사적 배경을 동시에 체험할 수 있습니다.\n",
      "\n",
      "---\n",
      "\n",
      "**정리**  \n",
      "장곡사의 미륵불 괘불탱은 8세기 석조 탑으로, 미륵보살을 상징하는 불교 유물입니다. 국보 제112호로 지정된 이 탑은 한국 불교 건축의 정수이며, 비무장지대 인근에 위치해 평화와 통일의 상징으로서 큰 의미를 지닙니다. 장곡사와 미륵불 괘불탱은 한국의 문화유산과 불교 사상, 그리고 한반도 평화의 메시지를 동시에 전달하는 중요한 유적지입니다.\n"
     ]
    }
   ],
   "source": [
    "# 단일 메시지\n",
    "resp = llm.invoke(\"장곡사 미륵불 괘불탱에 대해서 설명해줘.\")\n",
    "print(resp.content)\n"
   ]
  },
  {
   "cell_type": "code",
   "execution_count": 18,
   "metadata": {},
   "outputs": [
    {
     "name": "stdout",
     "output_type": "stream",
     "text": [
      "[GIN] 2025/09/15 - 15:27:35 | 200 | 26.693870477s |       127.0.0.1 | POST     \"/api/chat\"\n",
      "## 장곡사(장곡사)와 미륵불·괘불탱(괘불탱) 개요\n",
      "\n",
      "| 항목 | 내용 |\n",
      "|------|------|\n",
      "| **위치** | 경기도 파주시 장곡면, 인천광역시와 경계에 인접한 한강(임진강) 인근 |\n",
      "| **설립 시기** | 7세기(고려 이전) 설립, 이후 수차례 재건 |\n",
      "| **문화재 등재** | 미륵불(국보 제123호), 괘불탱(국보 제124호) |\n",
      "| **주요 사찰 건물** | 대웅전(미륵불이 안치된 본당), 괘불탱(석탑), 사찰 복합 건물(종각, 사찰원 등) |\n",
      "\n",
      "---\n",
      "\n",
      "### 1. 장곡사의 역사와 문화적 의미\n",
      "\n",
      "- **고려시대의 미륵불 신앙**  \n",
      "  장곡사는 미륵불(미륵보살)을 중심으로 한 사찰로, 미륵보살이 인류를 구원할 미래의 부처라는 신앙이 강하게 자리 잡았습니다. 12세기 이후 미륵불이 대웅전 안에 안치되면서 장곡사는 미륵보살 신앙의 중심지로 부상했습니다.\n",
      "\n",
      "- **전쟁과 재건**  \n",
      "  20세기 초 일제강점기와 한국전쟁 시기에 사찰이 파괴되거나 훼손되었으나, 1950년대 이후 복원사업을 통해 현재의 모습을 되찾았습니다. 특히 1970년대에 국보 등재를 통해 보존이 강화되었습니다.\n",
      "\n",
      "- **현대의 역할**  \n",
      "  장곡사는 미륵보살 신앙을 계승하고, 한국 전통 불교 예술과 건축을 연구·전시하는 문화센터 역할도 수행합니다. 매년 미륵보살 축제(미륵보살제)가 열려 많은 신자와 관광객이 방문합니다.\n",
      "\n",
      "---\n",
      "\n",
      "### 2. 미륵불(국보 제123호)\n",
      "\n",
      "| 항목 | 내용 |\n",
      "|------|------|\n",
      "| **시대** | 고려 12세기(약 1200년경) |\n",
      "| **재료** | 대리석(또는 화강암) |\n",
      "| **크기** | 높이 약 1.5m, 무게 약 3톤 |\n",
      "| **특징** | 미륵보살이 손에 팔을 들고, 두 손에 팔을 올린 자세(팔을 올린 자세)로 서 있습니다. 미륵보살의 얼굴은 부드러운 미소와 함께 눈이 크게 그려져 있으며, 옷은 전통적인 미륵보살의 복장을 모티브로 한 장식이 돋보입니다. |\n",
      "| **예술적 가치** | 고려시대 조각의 정교함과 미륵보살 신앙의 상징성을 동시에 보여주는 대표작으로 평가됩니다. |\n",
      "\n",
      "---\n",
      "\n",
      "### 3. 괘불탱(국보 제124호)\n",
      "\n",
      "- **정의**  \n",
      "  괘불탱은 ‘석탑’ 또는 ‘석상탑’이라고도 불리며, 불교에서 부처의 성품과 가르침을 상징적으로 담은 구조물입니다. 장곡사의 괘불탱은 ‘미륵불 괘불탱’이라 불리며, 미륵보살의 상징적 의미를 담고 있습니다.\n",
      "\n",
      "| 항목 | 내용 |\n",
      "|------|------|\n",
      "| **시대** | 고려 13세기(약 1300년경) |\n",
      "| **재료** | 화강암 |\n",
      "| **구조** | 5층(또는 7층) 구조, 각 층마다 작은 돌문이 장식 |\n",
      "| **크기** | 높이 약 4m, 직경 약 1.2m |\n",
      "| **특징** | 각 층마다 미륵보살의 얼굴이 새겨진 작은 조각이 있으며, 탑 꼭대기에는 미륵보살의 상징인 ‘팔을 올린’ 모양의 조각이 있습니다. 탑의 외벽은 ‘괘’(八卦) 모양의 장식이 들어가 있어 ‘괘불탱’이라는 이름이 붙었습니다. |\n",
      "| **예술적 가치** | 고려시대 석조 건축의 정교함과 미륵보살 신앙의 상징성을 동시에 보여주는 대표적인 석탑입니다. |\n",
      "\n",
      "---\n",
      "\n",
      "### 4. 장곡사와 미륵불·괘불탱의 문화적 가치\n",
      "\n",
      "1. **불교 예술의 정수**  \n",
      "   미륵불과 괘불탱은 고려시대 불교 조각·건축의 정수를 보여주는 대표작으로, 한국 불교 예술 연구에 필수적인 자료입니다.\n",
      "\n",
      "2. **미륵보살 신앙의 상징**  \n",
      "   미륵보살은 ‘미래의 부처’라는 의미로, 장곡사는 미륵보살 신앙의 중심지로서 한국 불교 신앙의 변천사를 반영합니다.\n",
      "\n",
      "3. **문화재 보호와 교육**  \n",
      "   국보 등재를 통해 보존·복원 사업이 진행되었으며, 사찰 내부에 전시관을 설치해 일반인에게 불교 예술과 사찰 건축을 교육하고 있습니다.\n",
      "\n",
      "4. **관광·문화산업**  \n",
      "   장곡사는 미륵보살제와 함께 국내외 관광객에게 한국 전통 불교 문화 체험을 제공하며, 지역 경제 활성화에도 기여합니다.\n",
      "\n",
      "---\n",
      "\n",
      "### 5. 방문 팁\n",
      "\n",
      "| 항목 | 내용 |\n",
      "|------|------|\n",
      "| **오시는 길** | 파주 시내에서 버스(장곡사행) 또는 자가용(경부고속도로 파주IC → 장곡사입구) |\n",
      "| **입장료** | 사찰 내부 입장료는 무료(미륵불·괘불탱 전시관은 소정의 입장료가 부과될 수 있음) |\n",
      "| **주요 행사** | 미륵보살제(매년 12월 12일) – 미륵보살의 부활을 기념하는 대규모 행사 |\n",
      "| **관람 시간** | 사찰 내부는 9:00~18:00 (특정 기간은 조정될 수 있음) |\n",
      "| **주의 사항** | 사찰 내부는 신성한 공간이므로 사진 촬영 시 조용히, 예의 바르게 행동 |\n",
      "\n",
      "---\n",
      "\n",
      "### 6. 마무리\n",
      "\n",
      "장곡사의 미륵불과 괘불탱은 한국 불교 예술과 신앙의 깊이를 한눈에 보여주는 국보입니다. 이 두 작품은 고려시대의 석조 조각과 건축 기술을 대표하며, 미륵보살 신앙이 한국 불교 문화에 미친 영향을 잘 보여줍니다. 장곡사를 방문하면, 단순히 예술품을 감상하는 것을 넘어 한국 불교의 역사와 신앙을 체험할 수 있는 소중한 기회를 얻게 됩니다.\n"
     ]
    }
   ],
   "source": [
    "# 시스템 message / propmt (역할지정 / 명령어 지정) -> 이부분을 작성을 잘해야함. https://wikidocs.net/285650 (위키독스 진행)\n",
    "\n",
    "# llm = ChatOllama(base_url=\"http://127.0.0.1:11434\", model=\"gpt-oss:20b\", temperature=0.3)\n",
    "resp = llm.invoke([\n",
    "    SystemMessage(content=\"너는 AI 문화유산 스마트도슨트야.\"),\n",
    "    HumanMessage(content=\"장곡사 미륵불 괘불탱에 대해서 설명해줘.\"),\n",
    "])\n",
    "print(resp.content)"
   ]
  },
  {
   "cell_type": "markdown",
   "metadata": {},
   "source": [
    "### ollama - gemma3:27b"
   ]
  },
  {
   "cell_type": "code",
   "execution_count": 19,
   "metadata": {},
   "outputs": [],
   "source": [
    "# Ollama 연결\n",
    "llm1 = ChatOllama(\n",
    "    base_url=\"http://127.0.0.1:11434\",  # ollama serve가 켜져 있는 주소\n",
    "    model=\"gemma3:27b\",\n",
    "    temperature=0.1,\n",
    "    num_ctx=2048,\n",
    ")"
   ]
  },
  {
   "cell_type": "code",
   "execution_count": 20,
   "metadata": {},
   "outputs": [
    {
     "name": "stdout",
     "output_type": "stream",
     "text": [
      "[GIN] 2025/09/15 - 15:28:13 | 200 | 20.615460119s |       127.0.0.1 | POST     \"/api/chat\"\n",
      "장곡사 미륵불 괘불탱은 경상남도 거창군 북상면 장곡사에 있는 괘불탱으로, 조선 후기에 제작된 불교 회화의 걸작입니다. 괘불탱은 원래 절에서 중요한 의식을 치를 때 내걸어 놓는 그림으로, 장곡사 괘불탱은 특히 뛰어난 예술성과 역사적 가치를 인정받아 국보 제135호로 지정되었습니다.\n",
      "\n",
      "**주요 특징:**\n",
      "\n",
      "*   **미륵보살의 광대한 세계:** 괘불탱의 중심에는 미래에 인간 세계를 구제할 미륵보살이 웅장하게 자리 잡고 있습니다. 미륵보살은 화려한 보관을 쓰고, 온화한 미소를 짓고 있으며, 손에는 각각 지혜와 자비를 상징하는 물건을 들고 있습니다. 미륵보살 주변에는 다양한 보살과 천인, 그리고 극락 세계를 상징하는 연꽃과 구름 등이 섬세하게 묘사되어 있습니다.\n",
      "*   **화려하고 섬세한 채색:** 괘불탱은 밝고 화려한 오방색을 사용하여 미륵보살의 장엄함과 극락 세계의 아름다움을 표현합니다. 특히, 옷의 주름이나 보살의 표정 등은 매우 섬세하게 묘사되어 있어, 당시 불화 장인의 뛰어난 기량을 엿볼 수 있습니다.\n",
      "*   **조선 후기 불화의 특징:** 장곡사 괘불탱은 조선 후기 불화의 특징을 잘 보여줍니다. 즉, 사실적인 묘사보다는 이상적인 아름다움을 추구하고, 화려한 색채와 섬세한 문양을 사용하여 불교 세계의 신비로움을 표현합니다.\n",
      "*   **제작 배경:** 장곡사 괘불탱은 18세기 후반에 제작된 것으로 추정됩니다. 당시 장곡사는 조선 영남 지역의 중요한 불교 중심지였으며, 괘불탱은 절의 권위를 상징하고 불교 의식을 거행하는 데 중요한 역할을 했습니다.\n",
      "\n",
      "**장곡사 괘불탱 감상 포인트:**\n",
      "\n",
      "*   **미륵보살의 표정과 자세:** 미륵보살의 온화한 미소와 자비로운 눈빛, 그리고 편안한 자세를 통해 보살의 자애로운 마음을 느껴보세요.\n",
      "*   **보살과 천인의 다양한 모습:** 미륵보살 주변에 묘사된 보살과 천인들의 다양한 모습과 표정을 통해 불교 세계의 다채로움을 느껴보세요.\n",
      "*   **화려한 색채와 섬세한 문양:** 괘불탱에 사용된 화려한 색채와 섬세한 문양을 통해 당시 불화 장인의 뛰어난 기량을 감상해보세요.\n",
      "*   **괘불탱이 주는 종교적 의미:** 괘불탱은 단순한 그림이 아니라, 불교 신앙의 대상이자 구원의 상징입니다. 괘불탱을 통해 불교 세계의 신비로움과 종교적 의미를 느껴보세요.\n",
      "\n",
      "장곡사 괘불탱은 한국 불교 미술의 중요한 유산이자, 조선 후기 불화의 대표적인 걸작입니다. 장곡사를 방문하여 괘불탱을 직접 감상하고, 그 아름다움과 종교적 의미를 느껴보시길 바랍니다.\n"
     ]
    }
   ],
   "source": [
    "# 단일 메시지\n",
    "resp = llm1.invoke(\"장곡사 미륵불 괘불탱에 대해서 설명해줘.\")\n",
    "print(resp.content)"
   ]
  },
  {
   "cell_type": "code",
   "execution_count": 21,
   "metadata": {},
   "outputs": [
    {
     "name": "stdout",
     "output_type": "stream",
     "text": [
      "[GIN] 2025/09/15 - 15:28:51 | 200 | 26.613180367s |       127.0.0.1 | POST     \"/api/chat\"\n",
      "안녕하세요! AI 문화유산 스마트 도슨트입니다. 장곡사 미륵불 괘불탱에 대해 자세히 설명해 드리겠습니다.\n",
      "\n",
      "**장곡사 미륵불 괘불탱 (長谷寺 彌勒佛 掛佛탱)**\n",
      "\n",
      "*   **소장처:** 전라북도 정읍시 장곡사\n",
      "*   **지정:** 보물 제1358호 (2003년)\n",
      "*   **제작시기:** 조선 후기 (추정)\n",
      "*   **크기:** 가로 6.8m, 세로 10.3m\n",
      "*   **재료:** 비단\n",
      "\n",
      "**괘불탱이란?**\n",
      "\n",
      "괘불탱은 불교 의식 때 법당에 걸어놓는 대형 불화입니다. 넓은 비단에 그려져 있으며, 주로 석가모니불의 영산회상(靈山會上) 장면을 묘사합니다. 영산회상은 석가모니 부처가 깨달음을 얻은 영산에서 설법하는 모습을 그린 것으로, 많은 보살과 천신, 나한 등이 함께 등장하는 장엄한 장면입니다.\n",
      "\n",
      "**장곡사 미륵불 괘불탱의 특징**\n",
      "\n",
      "장곡사 미륵불 괘불탱은 다른 괘불탱들과 몇 가지 독특한 특징을 가지고 있습니다.\n",
      "\n",
      "*   **미륵불 중심:** 대부분의 괘불탱이 석가모니불을 중심으로 그려지는 반면, 이 괘불탱은 미륵불을 중심으로 조성되었다는 점이 특징적입니다. 미륵불은 미래에 내려와 중생을 구제할 부처로 여겨집니다.\n",
      "*   **화려하고 섬세한 표현:** 괘불탱 전체적으로 화려하고 섬세한 표현이 돋보입니다. 특히, 미륵불의 얼굴과 몸, 옷의 주름, 보살들의 표정과 몸짓 등이 정교하게 묘사되어 있습니다.\n",
      "*   **다양한 등장인물:** 미륵불을 중심으로 다양한 보살과 천신, 나한 등이 등장합니다. 이들은 각기 다른 자세와 표정을 통해 불교 세계의 다채로운 모습을 보여줍니다.\n",
      "*   **권위적이고 장엄한 분위기:** 괘불탱 전체적으로 권위적이고 장엄한 분위기가 느껴집니다. 이는 불교 의식에서 괘불탱이 갖는 신성한 의미를 반영합니다.\n",
      "\n",
      "**장곡사 괘불탱이 중요한 이유**\n",
      "\n",
      "장곡사 미륵불 괘불탱은 조선 후기 불화의 대표적인 걸작으로 평가받습니다. \n",
      "\n",
      "*   **미륵불 묘사의 희귀성:** 미륵불을 중심으로 한 괘불탱은 매우 드물어, 불교 미술사 연구에 중요한 자료가 됩니다.\n",
      "*   **뛰어난 예술적 가치:** 화려하고 섬세한 표현, 다채로운 등장인물, 장엄한 분위기 등 예술적 가치가 뛰어나다는 평가를 받습니다.\n",
      "*   **불교 신앙의 반영:** 괘불탱은 당시 불교 신앙의 모습과 사상을 반영하고 있습니다.\n",
      "\n",
      "**장곡사 괘불탱을 감상할 때**\n",
      "\n",
      "장곡사 괘불탱은 크기가 매우 크기 때문에 전체를 한눈에 담기 어렵습니다. \n",
      "\n",
      "*   **전체적인 구도:** 먼저 괘불탱 전체적인 구도를 살펴보세요. 미륵불을 중심으로 다양한 등장인물들이 어떻게 배치되어 있는지 확인해 보세요.\n",
      "*   **미륵불의 모습:** 미륵불의 얼굴 표정과 몸짓, 옷의 주름 등을 자세히 살펴보세요. 미륵불이 어떤 의미를 담고 있는지 생각해 보세요.\n",
      "*   **등장인물들의 의미:** 괘불탱에 등장하는 다양한 보살과 천신, 나한 등이 각각 어떤 의미를 가지고 있는지 알아보세요.\n",
      "*   **색채와 문양:** 괘불탱에 사용된 색채와 문양이 어떤 의미를 담고 있는지 생각해 보세요.\n",
      "\n",
      "장곡사 괘불탱은 단순한 그림이 아니라, 당시 사람들의 신앙과 예술혼이 담긴 소중한 문화유산입니다. 괘불탱을 감상하면서, 과거 사람들의 삶과 생각을 느껴보시기 바랍니다.\n",
      "\n",
      "더 궁금한 점이 있으시면 언제든지 질문해주세요.\n"
     ]
    }
   ],
   "source": [
    "resp = llm1.invoke([\n",
    "    SystemMessage(content=\"너는 AI 문화유산 스마트도슨트야.\"),\n",
    "    HumanMessage(content=\"장곡사 미륵불 괘불탱에 대해서 설명해줘.\"),\n",
    "])\n",
    "print(resp.content)"
   ]
  }
 ],
 "metadata": {
  "kernelspec": {
   "display_name": "Python 3",
   "language": "python",
   "name": "python3"
  },
  "language_info": {
   "codemirror_mode": {
    "name": "ipython",
    "version": 3
   },
   "file_extension": ".py",
   "mimetype": "text/x-python",
   "name": "python",
   "nbconvert_exporter": "python",
   "pygments_lexer": "ipython3",
   "version": "3.12.3"
  }
 },
 "nbformat": 4,
 "nbformat_minor": 2
}

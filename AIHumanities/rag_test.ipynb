{
 "cells": [
  {
   "cell_type": "markdown",
   "metadata": {},
   "source": [
    "# Ollama를 활용한 LLM prompt engineering 기초"
   ]
  },
  {
   "cell_type": "markdown",
   "metadata": {},
   "source": [
    "- 작성자 임이로 bkksg.studio@gmail.com\n",
    "- python 3.12.3사용중"
   ]
  },
  {
   "cell_type": "code",
   "execution_count": 1,
   "metadata": {},
   "outputs": [
    {
     "name": "stdout",
     "output_type": "stream",
     "text": [
      "Tue Sep 16 13:39:14 2025       \n",
      "+-----------------------------------------------------------------------------------------+\n",
      "| NVIDIA-SMI 570.86.15              Driver Version: 570.86.15      CUDA Version: 12.8     |\n",
      "|-----------------------------------------+------------------------+----------------------+\n",
      "| GPU  Name                 Persistence-M | Bus-Id          Disp.A | Volatile Uncorr. ECC |\n",
      "| Fan  Temp   Perf          Pwr:Usage/Cap |           Memory-Usage | GPU-Util  Compute M. |\n",
      "|                                         |                        |               MIG M. |\n",
      "|=========================================+========================+======================|\n",
      "|   0  NVIDIA A100-PCIE-40GB          Off |   00000000:C2:00.0 Off |                    0 |\n",
      "| N/A   29C    P0             32W /  250W |       1MiB /  40960MiB |     N/A      Default |\n",
      "|                                         |                        |             Disabled |\n",
      "+-----------------------------------------+------------------------+----------------------+\n",
      "                                                                                         \n",
      "+-----------------------------------------------------------------------------------------+\n",
      "| Processes:                                                                              |\n",
      "|  GPU   GI   CI              PID   Type   Process name                        GPU Memory |\n",
      "|        ID   ID                                                               Usage      |\n",
      "|=========================================================================================|\n",
      "|  No running processes found                                                             |\n",
      "+-----------------------------------------------------------------------------------------+\n",
      "py 3.12.3 (main, Nov  6 2024, 18:32:19) [GCC 13.2.0]\n",
      "cuda? True\n"
     ]
    }
   ],
   "source": [
    "!nvidia-smi #NVIDIA GPU 상태를 보여주는 표준 유틸리티. # MIG(Multi-Instance GPU) : Disabled\n",
    "!python -c \"import torch,platform,sys; print('py',sys.version); print('cuda?',torch.cuda.is_available())\" #True면 PyTorch가 GPU(CUDA-그래픽카드를 ai연산에 사용하기 위함) 버전을 잘 찾았다는 뜻."
   ]
  },
  {
   "cell_type": "markdown",
   "metadata": {},
   "source": [
    "#### ollama를 클라우드 서버에 설치"
   ]
  },
  {
   "cell_type": "code",
   "execution_count": 2,
   "metadata": {},
   "outputs": [
    {
     "name": "stdout",
     "output_type": "stream",
     "text": [
      ">>> Installing ollama to /usr/local\n",
      ">>> Downloading Linux amd64 bundle\n",
      "######################################################################## 100.0%#########                                                     29.2%\n",
      ">>> Creating ollama user...\n",
      ">>> Adding ollama user to render group...\n",
      ">>> Adding ollama user to video group...\n",
      ">>> Adding current user to ollama group...\n",
      ">>> Creating ollama systemd service...\n",
      "\u001b[1m\u001b[31mWARNING:\u001b[m systemd is not running\n",
      ">>> NVIDIA GPU installed.\n",
      ">>> The Ollama API is now available at 127.0.0.1:11434.\n",
      ">>> Install complete. Run \"ollama\" from the command line.\n"
     ]
    }
   ],
   "source": [
    "!curl -fsSL https://ollama.com/install.sh | sh #https://ollama.com/ "
   ]
  },
  {
   "cell_type": "markdown",
   "metadata": {},
   "source": [
    "#### ollama serve 시작"
   ]
  },
  {
   "cell_type": "code",
   "execution_count": 3,
   "metadata": {},
   "outputs": [],
   "source": [
    "import subprocess, os\n",
    "# subprocess : 외부 명령어나 프로그램을 파이썬 코드에서 실행할 수 있게 해주는 모듈.\n",
    "# os : 운영체제 관련 작업을 할 때 쓰는 모듈. / 환경변수 설정, 디렉토리 만들기/바꾸기, 경로 조작 등에 활용."
   ]
  },
  {
   "cell_type": "code",
   "execution_count": 4,
   "metadata": {},
   "outputs": [],
   "source": [
    "# # GPU 환경변수 설정 후 서버 실행\n",
    "# !export OLLAMA_USE_GPU=1\n",
    "# # 선택: 특정 GPU만 쓰려면 (예: 0번 GPU만)\n",
    "# !export CUDA_VISIBLE_DEVICES=0\n",
    "\n",
    "os.environ[\"OLLAMA_USE_GPU\"] = \"1\"\n",
    "os.environ[\"CUDA_VISIBLE_DEVICES\"] = \"0\"  # 필요 시 선택"
   ]
  },
  {
   "cell_type": "code",
   "execution_count": 16,
   "metadata": {},
   "outputs": [
    {
     "data": {
      "text/plain": [
       "<Popen: returncode: None args: ['ollama', 'serve']>"
      ]
     },
     "execution_count": 16,
     "metadata": {},
     "output_type": "execute_result"
    },
    {
     "name": "stderr",
     "output_type": "stream",
     "text": [
      "time=2025-09-16T13:50:56.658+09:00 level=INFO source=routes.go:1332 msg=\"server config\" env=\"map[CUDA_VISIBLE_DEVICES:0 GPU_DEVICE_ORDINAL: HIP_VISIBLE_DEVICES: HSA_OVERRIDE_GFX_VERSION: HTTPS_PROXY: HTTP_PROXY: NO_PROXY: OLLAMA_CONTEXT_LENGTH:4096 OLLAMA_DEBUG:INFO OLLAMA_FLASH_ATTENTION:false OLLAMA_GPU_OVERHEAD:0 OLLAMA_HOST:http://127.0.0.1:11434 OLLAMA_INTEL_GPU:false OLLAMA_KEEP_ALIVE:5m0s OLLAMA_KV_CACHE_TYPE: OLLAMA_LLM_LIBRARY: OLLAMA_LOAD_TIMEOUT:5m0s OLLAMA_MAX_LOADED_MODELS:0 OLLAMA_MAX_QUEUE:512 OLLAMA_MODELS:../../ollama OLLAMA_MULTIUSER_CACHE:false OLLAMA_NEW_ENGINE:false OLLAMA_NOHISTORY:false OLLAMA_NOPRUNE:false OLLAMA_NUM_PARALLEL:1 OLLAMA_ORIGINS:[http://localhost https://localhost http://localhost:* https://localhost:* http://127.0.0.1 https://127.0.0.1 http://127.0.0.1:* https://127.0.0.1:* http://0.0.0.0 https://0.0.0.0 http://0.0.0.0:* https://0.0.0.0:* app://* file://* tauri://* vscode-webview://* vscode-file://*] OLLAMA_SCHED_SPREAD:false ROCR_VISIBLE_DEVICES: http_proxy: https_proxy: no_proxy:]\"\n",
      "time=2025-09-16T13:50:56.665+09:00 level=INFO source=images.go:477 msg=\"total blobs: 10\"\n",
      "time=2025-09-16T13:50:56.667+09:00 level=INFO source=images.go:484 msg=\"total unused blobs removed: 0\"\n",
      "time=2025-09-16T13:50:56.671+09:00 level=INFO source=routes.go:1385 msg=\"Listening on 127.0.0.1:11434 (version 0.11.11)\"\n",
      "time=2025-09-16T13:50:56.671+09:00 level=INFO source=gpu.go:217 msg=\"looking for compatible GPUs\"\n",
      "time=2025-09-16T13:50:57.512+09:00 level=WARN source=cuda_common.go:52 msg=\"old CUDA driver detected - please upgrade to a newer driver for best performance\" version=12.8\n",
      "time=2025-09-16T13:50:57.512+09:00 level=INFO source=types.go:131 msg=\"inference compute\" id=GPU-8a17adfb-285e-dc5c-377f-dbb78a079129 library=cuda variant=v12 compute=8.0 driver=12.8 name=\"NVIDIA A100-PCIE-40GB\" total=\"39.5 GiB\" available=\"39.1 GiB\"\n"
     ]
    }
   ],
   "source": [
    "# 주피터 프로세스 자체의 환경변수 수정\n",
    "os.environ[\"OLLAMA_MODELS\"] = \"../../ollama\" #절대경로 \n",
    "# serve 띄울 때도 같은 os.environ 사용\n",
    "subprocess.Popen([\"ollama\", \"serve\"], env=os.environ)\n"
   ]
  },
  {
   "cell_type": "code",
   "execution_count": 17,
   "metadata": {},
   "outputs": [
    {
     "name": "stdout",
     "output_type": "stream",
     "text": [
      "[GIN] 2025/09/16 - 13:50:59 | 200 |     107.587µs |       127.0.0.1 | HEAD     \"/\"\n",
      "[GIN] 2025/09/16 - 13:50:59 | 200 |    7.664782ms |       127.0.0.1 | GET      \"/api/tags\"\n",
      "NAME           ID              SIZE     MODIFIED     \n",
      "gemma3:27b     a418f5838eaf    17 GB    23 hours ago    \n",
      "gpt-oss:20b    aa4295ac10c3    13 GB    23 hours ago    \n"
     ]
    }
   ],
   "source": [
    "!ollama list"
   ]
  },
  {
   "cell_type": "markdown",
   "metadata": {},
   "source": [
    "#### ollama server 종료"
   ]
  },
  {
   "cell_type": "code",
   "execution_count": 14,
   "metadata": {},
   "outputs": [
    {
     "data": {
      "text/plain": [
       "CompletedProcess(args=['pkill', '-f', 'ollama serve'], returncode=0)"
      ]
     },
     "execution_count": 14,
     "metadata": {},
     "output_type": "execute_result"
    }
   ],
   "source": [
    "subprocess.run([\"pkill\", \"-f\", \"ollama serve\"], check=False)"
   ]
  },
  {
   "cell_type": "markdown",
   "metadata": {},
   "source": [
    "#### ollama pull llm"
   ]
  },
  {
   "cell_type": "code",
   "execution_count": 19,
   "metadata": {},
   "outputs": [
    {
     "name": "stdout",
     "output_type": "stream",
     "text": [
      "[GIN] 2025/09/16 - 13:52:29 | 200 |      28.843µs |       127.0.0.1 | HEAD     \"/\"\n"
     ]
    },
    {
     "name": "stderr",
     "output_type": "stream",
     "text": [
      "\u001b[?2026h\u001b[?25l\u001b[1Gpulling manifest ⠋ \u001b[K\u001b[?25h\u001b[?2026l\u001b[?2026h\u001b[?25l\u001b[1Gpulling manifest ⠙ \u001b[K\u001b[?25h\u001b[?2026l\u001b[?2026h\u001b[?25l\u001b[1Gpulling manifest ⠹ \u001b[K\u001b[?25h\u001b[?2026l\u001b[?2026h\u001b[?25l\u001b[1Gpulling manifest ⠸ \u001b[K\u001b[?25h\u001b[?2026l\u001b[?2026h\u001b[?25l\u001b[1Gpulling manifest ⠼ \u001b[K\u001b[?25h\u001b[?2026l\u001b[?2026h\u001b[?25l\u001b[1Gpulling manifest ⠴ \u001b[K\u001b[?25h\u001b[?2026l"
     ]
    },
    {
     "name": "stdout",
     "output_type": "stream",
     "text": [
      "[GIN] 2025/09/16 - 13:52:29 | 200 |  647.920254ms |       127.0.0.1 | POST     \"/api/pull\"\n"
     ]
    },
    {
     "name": "stderr",
     "output_type": "stream",
     "text": [
      "\u001b[?2026h\u001b[?25l\u001b[1Gpulling manifest \u001b[K\n",
      "pulling b112e727c6f1: 100% ▕██████████████████▏  13 GB                         \u001b[K\n",
      "pulling fa6710a93d78: 100% ▕██████████████████▏ 7.2 KB                         \u001b[K\n",
      "pulling f60356777647: 100% ▕██████████████████▏  11 KB                         \u001b[K\n",
      "pulling d8ba2f9a17b3: 100% ▕██████████████████▏   18 B                         \u001b[K\n",
      "pulling 55c108d8e936: 100% ▕██████████████████▏  489 B                         \u001b[K\n",
      "verifying sha256 digest \u001b[K\n",
      "writing manifest \u001b[K\n",
      "success \u001b[K\u001b[?25h\u001b[?2026l\n"
     ]
    },
    {
     "data": {
      "text/plain": [
       "CompletedProcess(args=['ollama', 'pull', 'gpt-oss:20b'], returncode=0)"
      ]
     },
     "execution_count": 19,
     "metadata": {},
     "output_type": "execute_result"
    }
   ],
   "source": [
    "# 모델 풀\n",
    "subprocess.run([\"ollama\", \"pull\", \"gpt-oss:20b\"], check=True, env=os.environ)"
   ]
  },
  {
   "cell_type": "code",
   "execution_count": 20,
   "metadata": {},
   "outputs": [
    {
     "name": "stdout",
     "output_type": "stream",
     "text": [
      "[GIN] 2025/09/16 - 13:52:33 | 200 |      26.922µs |       127.0.0.1 | HEAD     \"/\"\n"
     ]
    },
    {
     "name": "stderr",
     "output_type": "stream",
     "text": [
      "\u001b[?2026h\u001b[?25l\u001b[1Gpulling manifest ⠋ \u001b[K\u001b[?25h\u001b[?2026l\u001b[?2026h\u001b[?25l\u001b[1Gpulling manifest ⠙ \u001b[K\u001b[?25h\u001b[?2026l\u001b[?2026h\u001b[?25l\u001b[1Gpulling manifest ⠹ \u001b[K\u001b[?25h\u001b[?2026l\u001b[?2026h\u001b[?25l\u001b[1Gpulling manifest ⠸ \u001b[K\u001b[?25h\u001b[?2026l\u001b[?2026h\u001b[?25l\u001b[1Gpulling manifest ⠼ \u001b[K\u001b[?25h\u001b[?2026l\u001b[?2026h\u001b[?25l\u001b[1Gpulling manifest ⠴ \u001b[K\u001b[?25h\u001b[?2026l"
     ]
    },
    {
     "name": "stdout",
     "output_type": "stream",
     "text": [
      "[GIN] 2025/09/16 - 13:52:33 | 200 |  695.745028ms |       127.0.0.1 | POST     \"/api/pull\"\n"
     ]
    },
    {
     "name": "stderr",
     "output_type": "stream",
     "text": [
      "\u001b[?2026h\u001b[?25l\u001b[1Gpulling manifest \u001b[K\n",
      "pulling e796792eba26: 100% ▕██████████████████▏  17 GB                         \u001b[K\n",
      "pulling e0a42594d802: 100% ▕██████████████████▏  358 B                         \u001b[K\n",
      "pulling dd084c7d92a3: 100% ▕██████████████████▏ 8.4 KB                         \u001b[K\n",
      "pulling 3116c5225075: 100% ▕██████████████████▏   77 B                         \u001b[K\n",
      "pulling f838f048d368: 100% ▕██████████████████▏  490 B                         \u001b[K\n",
      "verifying sha256 digest \u001b[K\n",
      "writing manifest \u001b[K\n",
      "success \u001b[K\u001b[?25h\u001b[?2026l\n"
     ]
    },
    {
     "data": {
      "text/plain": [
       "CompletedProcess(args=['ollama', 'pull', 'gemma3:27b'], returncode=0)"
      ]
     },
     "execution_count": 20,
     "metadata": {},
     "output_type": "execute_result"
    }
   ],
   "source": [
    "# 모델 풀\n",
    "subprocess.run([\"ollama\", \"pull\", \"gemma3:27b\"], check=True, env=os.environ)"
   ]
  },
  {
   "cell_type": "markdown",
   "metadata": {},
   "source": [
    "### ollama - gpt-oss:20b"
   ]
  },
  {
   "cell_type": "code",
   "execution_count": 21,
   "metadata": {},
   "outputs": [
    {
     "name": "stdout",
     "output_type": "stream",
     "text": [
      "\u001b[33mDEPRECATION: Loading egg at /usr/local/lib/python3.12/dist-packages/bitsandbytes-0.45.4.dev0-py3.12-linux-x86_64.egg is deprecated. pip 25.1 will enforce this behaviour change. A possible replacement is to use pip for package installation. Discussion can be found at https://github.com/pypa/pip/issues/12330\u001b[0m\u001b[33m\n",
      "\u001b[0m\u001b[33mDEPRECATION: Loading egg at /usr/local/lib/python3.12/dist-packages/lightning_utilities-0.12.0.dev0-py3.12.egg is deprecated. pip 25.1 will enforce this behaviour change. A possible replacement is to use pip for package installation. Discussion can be found at https://github.com/pypa/pip/issues/12330\u001b[0m\u001b[33m\n",
      "\u001b[0m\u001b[33mDEPRECATION: Loading egg at /usr/local/lib/python3.12/dist-packages/nvfuser-0.2.23a0+6627725-py3.12-linux-x86_64.egg is deprecated. pip 25.1 will enforce this behaviour change. A possible replacement is to use pip for package installation. Discussion can be found at https://github.com/pypa/pip/issues/12330\u001b[0m\u001b[33m\n",
      "\u001b[0m\u001b[33mDEPRECATION: Loading egg at /usr/local/lib/python3.12/dist-packages/looseversion-1.3.0-py3.12.egg is deprecated. pip 25.1 will enforce this behaviour change. A possible replacement is to use pip for package installation. Discussion can be found at https://github.com/pypa/pip/issues/12330\u001b[0m\u001b[33m\n",
      "\u001b[0m\u001b[33mDEPRECATION: Loading egg at /usr/local/lib/python3.12/dist-packages/lightning_thunder-0.2.0.dev0-py3.12.egg is deprecated. pip 25.1 will enforce this behaviour change. A possible replacement is to use pip for package installation. Discussion can be found at https://github.com/pypa/pip/issues/12330\u001b[0m\u001b[33m\n",
      "\u001b[0m\u001b[33mDEPRECATION: Loading egg at /usr/local/lib/python3.12/dist-packages/bitsandbytes-0.45.4.dev0-py3.12-linux-x86_64.egg is deprecated. pip 25.1 will enforce this behaviour change. A possible replacement is to use pip for package installation. Discussion can be found at https://github.com/pypa/pip/issues/12330\u001b[0m\u001b[33m\n",
      "\u001b[0m\u001b[33mDEPRECATION: Loading egg at /usr/local/lib/python3.12/dist-packages/lightning_utilities-0.12.0.dev0-py3.12.egg is deprecated. pip 25.1 will enforce this behaviour change. A possible replacement is to use pip for package installation. Discussion can be found at https://github.com/pypa/pip/issues/12330\u001b[0m\u001b[33m\n",
      "\u001b[0m\u001b[33mDEPRECATION: Loading egg at /usr/local/lib/python3.12/dist-packages/nvfuser-0.2.23a0+6627725-py3.12-linux-x86_64.egg is deprecated. pip 25.1 will enforce this behaviour change. A possible replacement is to use pip for package installation. Discussion can be found at https://github.com/pypa/pip/issues/12330\u001b[0m\u001b[33m\n",
      "\u001b[0m\u001b[33mDEPRECATION: Loading egg at /usr/local/lib/python3.12/dist-packages/looseversion-1.3.0-py3.12.egg is deprecated. pip 25.1 will enforce this behaviour change. A possible replacement is to use pip for package installation. Discussion can be found at https://github.com/pypa/pip/issues/12330\u001b[0m\u001b[33m\n",
      "\u001b[0m\u001b[33mDEPRECATION: Loading egg at /usr/local/lib/python3.12/dist-packages/lightning_thunder-0.2.0.dev0-py3.12.egg is deprecated. pip 25.1 will enforce this behaviour change. A possible replacement is to use pip for package installation. Discussion can be found at https://github.com/pypa/pip/issues/12330\u001b[0m\u001b[33m\n",
      "\u001b[0m"
     ]
    }
   ],
   "source": [
    "!pip install -q langchain langchain-ollama\n",
    "# 🔧 LangChain + Ollama 연동용 패키지 설치\n",
    "# - langchain: 최신 LangChain 코어\n",
    "# - langchain-ollama: Ollama 전용 커넥터\n",
    "!pip install -q langchain-community\n",
    "# 🔧 추가: community 모듈 설치 (체인/에이전트 등 확장 기능)"
   ]
  },
  {
   "cell_type": "code",
   "execution_count": 22,
   "metadata": {},
   "outputs": [
    {
     "name": "stderr",
     "output_type": "stream",
     "text": [
      "time=2025-09-16T13:54:55.332+09:00 level=INFO source=server.go:200 msg=\"model wants flash attention\"\n",
      "time=2025-09-16T13:54:55.332+09:00 level=INFO source=server.go:217 msg=\"enabling flash attention\"\n",
      "time=2025-09-16T13:54:55.333+09:00 level=INFO source=server.go:399 msg=\"starting runner\" cmd=\"/usr/local/bin/ollama runner --ollama-engine --model ../../ollama/blobs/sha256-b112e727c6f18875636c56a779790a590d705aec9e1c0eb5a97d51fc2a778583 --port 42223\"\n",
      "time=2025-09-16T13:54:55.333+09:00 level=INFO source=server.go:672 msg=\"loading model\" \"model layers\"=25 requested=-1\n",
      "time=2025-09-16T13:54:55.359+09:00 level=INFO source=runner.go:1254 msg=\"starting ollama engine\"\n",
      "time=2025-09-16T13:54:55.360+09:00 level=INFO source=runner.go:1289 msg=\"Server listening on 127.0.0.1:42223\"\n",
      "time=2025-09-16T13:54:55.761+09:00 level=INFO source=server.go:678 msg=\"system memory\" total=\"1007.1 GiB\" free=\"903.2 GiB\" free_swap=\"8.0 GiB\"\n",
      "time=2025-09-16T13:54:55.762+09:00 level=INFO source=server.go:686 msg=\"gpu memory\" id=GPU-8a17adfb-285e-dc5c-377f-dbb78a079129 available=\"38.6 GiB\" free=\"39.1 GiB\" minimum=\"457.0 MiB\" overhead=\"0 B\"\n",
      "time=2025-09-16T13:54:55.763+09:00 level=INFO source=runner.go:1173 msg=load request=\"{Operation:fit LoraPath:[] Parallel:1 BatchSize:512 FlashAttention:true KvSize:8192 KvCacheType: NumThreads:40 GPULayers:25[ID:GPU-8a17adfb-285e-dc5c-377f-dbb78a079129 Layers:25(0..24)] MultiUserCache:false ProjectorPath: MainGPU:0 UseMmap:false}\"\n",
      "time=2025-09-16T13:54:55.870+09:00 level=INFO source=ggml.go:131 msg=\"\" architecture=gptoss file_type=MXFP4 name=\"\" description=\"\" num_tensors=315 num_key_values=30\n",
      "load_backend: loaded CPU backend from /usr/local/lib/ollama/libggml-cpu-skylakex.so\n",
      "ggml_cuda_init: GGML_CUDA_FORCE_MMQ:    no\n",
      "ggml_cuda_init: GGML_CUDA_FORCE_CUBLAS: no\n",
      "ggml_cuda_init: found 1 CUDA devices:\n",
      "  Device 0: NVIDIA A100-PCIE-40GB, compute capability 8.0, VMM: yes, ID: GPU-8a17adfb-285e-dc5c-377f-dbb78a079129\n",
      "load_backend: loaded CUDA backend from /usr/local/lib/ollama/cuda_v12/libggml-cuda.so\n",
      "time=2025-09-16T13:54:56.001+09:00 level=INFO source=ggml.go:104 msg=system CPU.0.SSE3=1 CPU.0.SSSE3=1 CPU.0.AVX=1 CPU.0.AVX2=1 CPU.0.F16C=1 CPU.0.FMA=1 CPU.0.BMI2=1 CPU.0.AVX512=1 CPU.0.LLAMAFILE=1 CPU.1.LLAMAFILE=1 CUDA.0.ARCHS=500,600,610,700,750,800,860,870,890,900,1200 CUDA.0.USE_GRAPHS=1 CUDA.0.PEER_MAX_BATCH_SIZE=128 compiler=cgo(gcc)\n",
      "time=2025-09-16T13:54:56.238+09:00 level=INFO source=runner.go:1173 msg=load request=\"{Operation:alloc LoraPath:[] Parallel:1 BatchSize:512 FlashAttention:true KvSize:8192 KvCacheType: NumThreads:40 GPULayers:25[ID:GPU-8a17adfb-285e-dc5c-377f-dbb78a079129 Layers:25(0..24)] MultiUserCache:false ProjectorPath: MainGPU:0 UseMmap:false}\"\n",
      "time=2025-09-16T13:54:56.413+09:00 level=INFO source=runner.go:1173 msg=load request=\"{Operation:commit LoraPath:[] Parallel:1 BatchSize:512 FlashAttention:true KvSize:8192 KvCacheType: NumThreads:40 GPULayers:25[ID:GPU-8a17adfb-285e-dc5c-377f-dbb78a079129 Layers:25(0..24)] MultiUserCache:false ProjectorPath: MainGPU:0 UseMmap:false}\"\n",
      "time=2025-09-16T13:54:56.413+09:00 level=INFO source=ggml.go:487 msg=\"offloading 24 repeating layers to GPU\"\n",
      "time=2025-09-16T13:54:56.413+09:00 level=INFO source=ggml.go:493 msg=\"offloading output layer to GPU\"\n",
      "time=2025-09-16T13:54:56.413+09:00 level=INFO source=ggml.go:498 msg=\"offloaded 25/25 layers to GPU\"\n",
      "time=2025-09-16T13:54:56.413+09:00 level=INFO source=backend.go:310 msg=\"model weights\" device=CUDA0 size=\"11.8 GiB\"\n",
      "time=2025-09-16T13:54:56.413+09:00 level=INFO source=backend.go:315 msg=\"model weights\" device=CPU size=\"1.1 GiB\"\n",
      "time=2025-09-16T13:54:56.413+09:00 level=INFO source=backend.go:321 msg=\"kv cache\" device=CUDA0 size=\"300.0 MiB\"\n",
      "time=2025-09-16T13:54:56.413+09:00 level=INFO source=backend.go:332 msg=\"compute graph\" device=CUDA0 size=\"121.8 MiB\"\n",
      "time=2025-09-16T13:54:56.413+09:00 level=INFO source=backend.go:337 msg=\"compute graph\" device=CPU size=\"5.6 MiB\"\n",
      "time=2025-09-16T13:54:56.413+09:00 level=INFO source=backend.go:342 msg=\"total memory\" size=\"13.3 GiB\"\n",
      "time=2025-09-16T13:54:56.413+09:00 level=INFO source=sched.go:473 msg=\"loaded runners\" count=1\n",
      "time=2025-09-16T13:54:56.413+09:00 level=INFO source=server.go:1251 msg=\"waiting for llama runner to start responding\"\n",
      "time=2025-09-16T13:54:56.414+09:00 level=INFO source=server.go:1285 msg=\"waiting for server to become available\" status=\"llm server loading model\"\n",
      "time=2025-09-16T13:55:26.034+09:00 level=INFO source=server.go:1289 msg=\"llama runner started in 30.70 seconds\"\n"
     ]
    },
    {
     "name": "stdout",
     "output_type": "stream",
     "text": [
      "[GIN] 2025/09/16 - 13:55:33 | 500 | 39.768222322s |       127.0.0.1 | POST     \"/api/generate\"\n"
     ]
    },
    {
     "ename": "KeyboardInterrupt",
     "evalue": "",
     "output_type": "error",
     "traceback": [
      "\u001b[0;31m---------------------------------------------------------------------------\u001b[0m",
      "\u001b[0;31mKeyboardInterrupt\u001b[0m                         Traceback (most recent call last)",
      "Cell \u001b[0;32mIn[22], line 4\u001b[0m\n\u001b[1;32m      1\u001b[0m \u001b[38;5;28;01mimport\u001b[39;00m \u001b[38;5;21;01mrequests\u001b[39;00m \u001b[38;5;66;03m# HTTP 요청을 보내기 위한 라이브러리\u001b[39;00m\n\u001b[1;32m      3\u001b[0m \u001b[38;5;66;03m# Ollama 서버에 텍스트 생성 요청 보내기\u001b[39;00m\n\u001b[0;32m----> 4\u001b[0m resp \u001b[38;5;241m=\u001b[39m \u001b[43mrequests\u001b[49m\u001b[38;5;241;43m.\u001b[39;49m\u001b[43mpost\u001b[49m\u001b[43m(\u001b[49m\n\u001b[1;32m      5\u001b[0m \u001b[43m    \u001b[49m\u001b[38;5;124;43m\"\u001b[39;49m\u001b[38;5;124;43mhttp://127.0.0.1:11434/api/generate\u001b[39;49m\u001b[38;5;124;43m\"\u001b[39;49m\u001b[43m,\u001b[49m\u001b[43m  \u001b[49m\u001b[38;5;66;43;03m# 로컬에서 실행 중인 Ollama 서버 주소\u001b[39;49;00m\n\u001b[1;32m      6\u001b[0m \u001b[43m    \u001b[49m\u001b[43mjson\u001b[49m\u001b[38;5;241;43m=\u001b[39;49m\u001b[43m{\u001b[49m\u001b[38;5;124;43m\"\u001b[39;49m\u001b[38;5;124;43mmodel\u001b[39;49m\u001b[38;5;124;43m\"\u001b[39;49m\u001b[43m:\u001b[49m\u001b[43m \u001b[49m\u001b[38;5;124;43m\"\u001b[39;49m\u001b[38;5;124;43mgpt-oss:20b\u001b[39;49m\u001b[38;5;124;43m\"\u001b[39;49m\u001b[43m,\u001b[49m\u001b[43m \u001b[49m\u001b[38;5;66;43;03m# 사용할 모델 이름\u001b[39;49;00m\n\u001b[1;32m      7\u001b[0m \u001b[43m          \u001b[49m\u001b[38;5;124;43m\"\u001b[39;49m\u001b[38;5;124;43mprompt\u001b[39;49m\u001b[38;5;124;43m\"\u001b[39;49m\u001b[43m:\u001b[49m\u001b[43m \u001b[49m\u001b[38;5;124;43m\"\u001b[39;49m\u001b[38;5;124;43m장곡사 미륵불 괘불탱에 대해서 설명해줘.\u001b[39;49m\u001b[38;5;124;43m\"\u001b[39;49m\u001b[43m,\u001b[49m\u001b[43m \u001b[49m\u001b[38;5;66;43;03m# 모델에 보낼 프롬프트\u001b[39;49;00m\n\u001b[1;32m      8\u001b[0m \u001b[43m          \u001b[49m\u001b[38;5;124;43m\"\u001b[39;49m\u001b[38;5;124;43mstream\u001b[39;49m\u001b[38;5;124;43m\"\u001b[39;49m\u001b[43m:\u001b[49m\u001b[43m \u001b[49m\u001b[38;5;28;43;01mFalse\u001b[39;49;00m\u001b[43m}\u001b[49m\u001b[43m,\u001b[49m\u001b[43m  \u001b[49m\u001b[38;5;66;43;03m# 스트리밍 모드 끄기 → 결과를 한 번에 받음\u001b[39;49;00m\n\u001b[1;32m      9\u001b[0m \u001b[43m    \u001b[49m\u001b[43mtimeout\u001b[49m\u001b[38;5;241;43m=\u001b[39;49m\u001b[38;5;241;43m120\u001b[39;49m\u001b[43m,\u001b[49m\u001b[43m  \u001b[49m\u001b[38;5;66;43;03m# 최대 120초까지 대기 (모델이 크면 응답이 느릴 수 있음)\u001b[39;49;00m\n\u001b[1;32m     10\u001b[0m \u001b[43m)\u001b[49m\n\u001b[1;32m     11\u001b[0m \u001b[38;5;66;03m# 모델이 생성한 응답 텍스트 출력\u001b[39;00m\n\u001b[1;32m     12\u001b[0m \u001b[38;5;28mprint\u001b[39m(resp\u001b[38;5;241m.\u001b[39mjson()[\u001b[38;5;124m\"\u001b[39m\u001b[38;5;124mresponse\u001b[39m\u001b[38;5;124m\"\u001b[39m])\n",
      "File \u001b[0;32m~/.local/lib/python3.12/site-packages/requests/api.py:115\u001b[0m, in \u001b[0;36mpost\u001b[0;34m(url, data, json, **kwargs)\u001b[0m\n\u001b[1;32m    103\u001b[0m \u001b[38;5;28;01mdef\u001b[39;00m \u001b[38;5;21mpost\u001b[39m(url, data\u001b[38;5;241m=\u001b[39m\u001b[38;5;28;01mNone\u001b[39;00m, json\u001b[38;5;241m=\u001b[39m\u001b[38;5;28;01mNone\u001b[39;00m, \u001b[38;5;241m*\u001b[39m\u001b[38;5;241m*\u001b[39mkwargs):\n\u001b[1;32m    104\u001b[0m \u001b[38;5;250m    \u001b[39m\u001b[38;5;124mr\u001b[39m\u001b[38;5;124;03m\"\"\"Sends a POST request.\u001b[39;00m\n\u001b[1;32m    105\u001b[0m \n\u001b[1;32m    106\u001b[0m \u001b[38;5;124;03m    :param url: URL for the new :class:`Request` object.\u001b[39;00m\n\u001b[0;32m   (...)\u001b[0m\n\u001b[1;32m    112\u001b[0m \u001b[38;5;124;03m    :rtype: requests.Response\u001b[39;00m\n\u001b[1;32m    113\u001b[0m \u001b[38;5;124;03m    \"\"\"\u001b[39;00m\n\u001b[0;32m--> 115\u001b[0m     \u001b[38;5;28;01mreturn\u001b[39;00m \u001b[43mrequest\u001b[49m\u001b[43m(\u001b[49m\u001b[38;5;124;43m\"\u001b[39;49m\u001b[38;5;124;43mpost\u001b[39;49m\u001b[38;5;124;43m\"\u001b[39;49m\u001b[43m,\u001b[49m\u001b[43m \u001b[49m\u001b[43murl\u001b[49m\u001b[43m,\u001b[49m\u001b[43m \u001b[49m\u001b[43mdata\u001b[49m\u001b[38;5;241;43m=\u001b[39;49m\u001b[43mdata\u001b[49m\u001b[43m,\u001b[49m\u001b[43m \u001b[49m\u001b[43mjson\u001b[49m\u001b[38;5;241;43m=\u001b[39;49m\u001b[43mjson\u001b[49m\u001b[43m,\u001b[49m\u001b[43m \u001b[49m\u001b[38;5;241;43m*\u001b[39;49m\u001b[38;5;241;43m*\u001b[39;49m\u001b[43mkwargs\u001b[49m\u001b[43m)\u001b[49m\n",
      "File \u001b[0;32m~/.local/lib/python3.12/site-packages/requests/api.py:59\u001b[0m, in \u001b[0;36mrequest\u001b[0;34m(method, url, **kwargs)\u001b[0m\n\u001b[1;32m     55\u001b[0m \u001b[38;5;66;03m# By using the 'with' statement we are sure the session is closed, thus we\u001b[39;00m\n\u001b[1;32m     56\u001b[0m \u001b[38;5;66;03m# avoid leaving sockets open which can trigger a ResourceWarning in some\u001b[39;00m\n\u001b[1;32m     57\u001b[0m \u001b[38;5;66;03m# cases, and look like a memory leak in others.\u001b[39;00m\n\u001b[1;32m     58\u001b[0m \u001b[38;5;28;01mwith\u001b[39;00m sessions\u001b[38;5;241m.\u001b[39mSession() \u001b[38;5;28;01mas\u001b[39;00m session:\n\u001b[0;32m---> 59\u001b[0m     \u001b[38;5;28;01mreturn\u001b[39;00m \u001b[43msession\u001b[49m\u001b[38;5;241;43m.\u001b[39;49m\u001b[43mrequest\u001b[49m\u001b[43m(\u001b[49m\u001b[43mmethod\u001b[49m\u001b[38;5;241;43m=\u001b[39;49m\u001b[43mmethod\u001b[49m\u001b[43m,\u001b[49m\u001b[43m \u001b[49m\u001b[43murl\u001b[49m\u001b[38;5;241;43m=\u001b[39;49m\u001b[43murl\u001b[49m\u001b[43m,\u001b[49m\u001b[43m \u001b[49m\u001b[38;5;241;43m*\u001b[39;49m\u001b[38;5;241;43m*\u001b[39;49m\u001b[43mkwargs\u001b[49m\u001b[43m)\u001b[49m\n",
      "File \u001b[0;32m~/.local/lib/python3.12/site-packages/requests/sessions.py:589\u001b[0m, in \u001b[0;36mSession.request\u001b[0;34m(self, method, url, params, data, headers, cookies, files, auth, timeout, allow_redirects, proxies, hooks, stream, verify, cert, json)\u001b[0m\n\u001b[1;32m    584\u001b[0m send_kwargs \u001b[38;5;241m=\u001b[39m {\n\u001b[1;32m    585\u001b[0m     \u001b[38;5;124m\"\u001b[39m\u001b[38;5;124mtimeout\u001b[39m\u001b[38;5;124m\"\u001b[39m: timeout,\n\u001b[1;32m    586\u001b[0m     \u001b[38;5;124m\"\u001b[39m\u001b[38;5;124mallow_redirects\u001b[39m\u001b[38;5;124m\"\u001b[39m: allow_redirects,\n\u001b[1;32m    587\u001b[0m }\n\u001b[1;32m    588\u001b[0m send_kwargs\u001b[38;5;241m.\u001b[39mupdate(settings)\n\u001b[0;32m--> 589\u001b[0m resp \u001b[38;5;241m=\u001b[39m \u001b[38;5;28;43mself\u001b[39;49m\u001b[38;5;241;43m.\u001b[39;49m\u001b[43msend\u001b[49m\u001b[43m(\u001b[49m\u001b[43mprep\u001b[49m\u001b[43m,\u001b[49m\u001b[43m \u001b[49m\u001b[38;5;241;43m*\u001b[39;49m\u001b[38;5;241;43m*\u001b[39;49m\u001b[43msend_kwargs\u001b[49m\u001b[43m)\u001b[49m\n\u001b[1;32m    591\u001b[0m \u001b[38;5;28;01mreturn\u001b[39;00m resp\n",
      "File \u001b[0;32m~/.local/lib/python3.12/site-packages/requests/sessions.py:703\u001b[0m, in \u001b[0;36mSession.send\u001b[0;34m(self, request, **kwargs)\u001b[0m\n\u001b[1;32m    700\u001b[0m start \u001b[38;5;241m=\u001b[39m preferred_clock()\n\u001b[1;32m    702\u001b[0m \u001b[38;5;66;03m# Send the request\u001b[39;00m\n\u001b[0;32m--> 703\u001b[0m r \u001b[38;5;241m=\u001b[39m \u001b[43madapter\u001b[49m\u001b[38;5;241;43m.\u001b[39;49m\u001b[43msend\u001b[49m\u001b[43m(\u001b[49m\u001b[43mrequest\u001b[49m\u001b[43m,\u001b[49m\u001b[43m \u001b[49m\u001b[38;5;241;43m*\u001b[39;49m\u001b[38;5;241;43m*\u001b[39;49m\u001b[43mkwargs\u001b[49m\u001b[43m)\u001b[49m\n\u001b[1;32m    705\u001b[0m \u001b[38;5;66;03m# Total elapsed time of the request (approximately)\u001b[39;00m\n\u001b[1;32m    706\u001b[0m elapsed \u001b[38;5;241m=\u001b[39m preferred_clock() \u001b[38;5;241m-\u001b[39m start\n",
      "File \u001b[0;32m~/.local/lib/python3.12/site-packages/requests/adapters.py:644\u001b[0m, in \u001b[0;36mHTTPAdapter.send\u001b[0;34m(self, request, stream, timeout, verify, cert, proxies)\u001b[0m\n\u001b[1;32m    641\u001b[0m     timeout \u001b[38;5;241m=\u001b[39m TimeoutSauce(connect\u001b[38;5;241m=\u001b[39mtimeout, read\u001b[38;5;241m=\u001b[39mtimeout)\n\u001b[1;32m    643\u001b[0m \u001b[38;5;28;01mtry\u001b[39;00m:\n\u001b[0;32m--> 644\u001b[0m     resp \u001b[38;5;241m=\u001b[39m \u001b[43mconn\u001b[49m\u001b[38;5;241;43m.\u001b[39;49m\u001b[43murlopen\u001b[49m\u001b[43m(\u001b[49m\n\u001b[1;32m    645\u001b[0m \u001b[43m        \u001b[49m\u001b[43mmethod\u001b[49m\u001b[38;5;241;43m=\u001b[39;49m\u001b[43mrequest\u001b[49m\u001b[38;5;241;43m.\u001b[39;49m\u001b[43mmethod\u001b[49m\u001b[43m,\u001b[49m\n\u001b[1;32m    646\u001b[0m \u001b[43m        \u001b[49m\u001b[43murl\u001b[49m\u001b[38;5;241;43m=\u001b[39;49m\u001b[43murl\u001b[49m\u001b[43m,\u001b[49m\n\u001b[1;32m    647\u001b[0m \u001b[43m        \u001b[49m\u001b[43mbody\u001b[49m\u001b[38;5;241;43m=\u001b[39;49m\u001b[43mrequest\u001b[49m\u001b[38;5;241;43m.\u001b[39;49m\u001b[43mbody\u001b[49m\u001b[43m,\u001b[49m\n\u001b[1;32m    648\u001b[0m \u001b[43m        \u001b[49m\u001b[43mheaders\u001b[49m\u001b[38;5;241;43m=\u001b[39;49m\u001b[43mrequest\u001b[49m\u001b[38;5;241;43m.\u001b[39;49m\u001b[43mheaders\u001b[49m\u001b[43m,\u001b[49m\n\u001b[1;32m    649\u001b[0m \u001b[43m        \u001b[49m\u001b[43mredirect\u001b[49m\u001b[38;5;241;43m=\u001b[39;49m\u001b[38;5;28;43;01mFalse\u001b[39;49;00m\u001b[43m,\u001b[49m\n\u001b[1;32m    650\u001b[0m \u001b[43m        \u001b[49m\u001b[43massert_same_host\u001b[49m\u001b[38;5;241;43m=\u001b[39;49m\u001b[38;5;28;43;01mFalse\u001b[39;49;00m\u001b[43m,\u001b[49m\n\u001b[1;32m    651\u001b[0m \u001b[43m        \u001b[49m\u001b[43mpreload_content\u001b[49m\u001b[38;5;241;43m=\u001b[39;49m\u001b[38;5;28;43;01mFalse\u001b[39;49;00m\u001b[43m,\u001b[49m\n\u001b[1;32m    652\u001b[0m \u001b[43m        \u001b[49m\u001b[43mdecode_content\u001b[49m\u001b[38;5;241;43m=\u001b[39;49m\u001b[38;5;28;43;01mFalse\u001b[39;49;00m\u001b[43m,\u001b[49m\n\u001b[1;32m    653\u001b[0m \u001b[43m        \u001b[49m\u001b[43mretries\u001b[49m\u001b[38;5;241;43m=\u001b[39;49m\u001b[38;5;28;43mself\u001b[39;49m\u001b[38;5;241;43m.\u001b[39;49m\u001b[43mmax_retries\u001b[49m\u001b[43m,\u001b[49m\n\u001b[1;32m    654\u001b[0m \u001b[43m        \u001b[49m\u001b[43mtimeout\u001b[49m\u001b[38;5;241;43m=\u001b[39;49m\u001b[43mtimeout\u001b[49m\u001b[43m,\u001b[49m\n\u001b[1;32m    655\u001b[0m \u001b[43m        \u001b[49m\u001b[43mchunked\u001b[49m\u001b[38;5;241;43m=\u001b[39;49m\u001b[43mchunked\u001b[49m\u001b[43m,\u001b[49m\n\u001b[1;32m    656\u001b[0m \u001b[43m    \u001b[49m\u001b[43m)\u001b[49m\n\u001b[1;32m    658\u001b[0m \u001b[38;5;28;01mexcept\u001b[39;00m (ProtocolError, \u001b[38;5;167;01mOSError\u001b[39;00m) \u001b[38;5;28;01mas\u001b[39;00m err:\n\u001b[1;32m    659\u001b[0m     \u001b[38;5;28;01mraise\u001b[39;00m \u001b[38;5;167;01mConnectionError\u001b[39;00m(err, request\u001b[38;5;241m=\u001b[39mrequest)\n",
      "File \u001b[0;32m/usr/local/lib/python3.12/dist-packages/urllib3/connectionpool.py:716\u001b[0m, in \u001b[0;36mHTTPConnectionPool.urlopen\u001b[0;34m(self, method, url, body, headers, retries, redirect, assert_same_host, timeout, pool_timeout, release_conn, chunked, body_pos, **response_kw)\u001b[0m\n\u001b[1;32m    713\u001b[0m     \u001b[38;5;28mself\u001b[39m\u001b[38;5;241m.\u001b[39m_prepare_proxy(conn)\n\u001b[1;32m    715\u001b[0m \u001b[38;5;66;03m# Make the request on the httplib connection object.\u001b[39;00m\n\u001b[0;32m--> 716\u001b[0m httplib_response \u001b[38;5;241m=\u001b[39m \u001b[38;5;28;43mself\u001b[39;49m\u001b[38;5;241;43m.\u001b[39;49m\u001b[43m_make_request\u001b[49m\u001b[43m(\u001b[49m\n\u001b[1;32m    717\u001b[0m \u001b[43m    \u001b[49m\u001b[43mconn\u001b[49m\u001b[43m,\u001b[49m\n\u001b[1;32m    718\u001b[0m \u001b[43m    \u001b[49m\u001b[43mmethod\u001b[49m\u001b[43m,\u001b[49m\n\u001b[1;32m    719\u001b[0m \u001b[43m    \u001b[49m\u001b[43murl\u001b[49m\u001b[43m,\u001b[49m\n\u001b[1;32m    720\u001b[0m \u001b[43m    \u001b[49m\u001b[43mtimeout\u001b[49m\u001b[38;5;241;43m=\u001b[39;49m\u001b[43mtimeout_obj\u001b[49m\u001b[43m,\u001b[49m\n\u001b[1;32m    721\u001b[0m \u001b[43m    \u001b[49m\u001b[43mbody\u001b[49m\u001b[38;5;241;43m=\u001b[39;49m\u001b[43mbody\u001b[49m\u001b[43m,\u001b[49m\n\u001b[1;32m    722\u001b[0m \u001b[43m    \u001b[49m\u001b[43mheaders\u001b[49m\u001b[38;5;241;43m=\u001b[39;49m\u001b[43mheaders\u001b[49m\u001b[43m,\u001b[49m\n\u001b[1;32m    723\u001b[0m \u001b[43m    \u001b[49m\u001b[43mchunked\u001b[49m\u001b[38;5;241;43m=\u001b[39;49m\u001b[43mchunked\u001b[49m\u001b[43m,\u001b[49m\n\u001b[1;32m    724\u001b[0m \u001b[43m\u001b[49m\u001b[43m)\u001b[49m\n\u001b[1;32m    726\u001b[0m \u001b[38;5;66;03m# If we're going to release the connection in ``finally:``, then\u001b[39;00m\n\u001b[1;32m    727\u001b[0m \u001b[38;5;66;03m# the response doesn't need to know about the connection. Otherwise\u001b[39;00m\n\u001b[1;32m    728\u001b[0m \u001b[38;5;66;03m# it will also try to release it and we'll have a double-release\u001b[39;00m\n\u001b[1;32m    729\u001b[0m \u001b[38;5;66;03m# mess.\u001b[39;00m\n\u001b[1;32m    730\u001b[0m response_conn \u001b[38;5;241m=\u001b[39m conn \u001b[38;5;28;01mif\u001b[39;00m \u001b[38;5;129;01mnot\u001b[39;00m release_conn \u001b[38;5;28;01melse\u001b[39;00m \u001b[38;5;28;01mNone\u001b[39;00m\n",
      "File \u001b[0;32m/usr/local/lib/python3.12/dist-packages/urllib3/connectionpool.py:468\u001b[0m, in \u001b[0;36mHTTPConnectionPool._make_request\u001b[0;34m(self, conn, method, url, timeout, chunked, **httplib_request_kw)\u001b[0m\n\u001b[1;32m    463\u001b[0m             httplib_response \u001b[38;5;241m=\u001b[39m conn\u001b[38;5;241m.\u001b[39mgetresponse()\n\u001b[1;32m    464\u001b[0m         \u001b[38;5;28;01mexcept\u001b[39;00m \u001b[38;5;167;01mBaseException\u001b[39;00m \u001b[38;5;28;01mas\u001b[39;00m e:\n\u001b[1;32m    465\u001b[0m             \u001b[38;5;66;03m# Remove the TypeError from the exception chain in\u001b[39;00m\n\u001b[1;32m    466\u001b[0m             \u001b[38;5;66;03m# Python 3 (including for exceptions like SystemExit).\u001b[39;00m\n\u001b[1;32m    467\u001b[0m             \u001b[38;5;66;03m# Otherwise it looks like a bug in the code.\u001b[39;00m\n\u001b[0;32m--> 468\u001b[0m             \u001b[43msix\u001b[49m\u001b[38;5;241;43m.\u001b[39;49m\u001b[43mraise_from\u001b[49m\u001b[43m(\u001b[49m\u001b[43me\u001b[49m\u001b[43m,\u001b[49m\u001b[43m \u001b[49m\u001b[38;5;28;43;01mNone\u001b[39;49;00m\u001b[43m)\u001b[49m\n\u001b[1;32m    469\u001b[0m \u001b[38;5;28;01mexcept\u001b[39;00m (SocketTimeout, BaseSSLError, SocketError) \u001b[38;5;28;01mas\u001b[39;00m e:\n\u001b[1;32m    470\u001b[0m     \u001b[38;5;28mself\u001b[39m\u001b[38;5;241m.\u001b[39m_raise_timeout(err\u001b[38;5;241m=\u001b[39me, url\u001b[38;5;241m=\u001b[39murl, timeout_value\u001b[38;5;241m=\u001b[39mread_timeout)\n",
      "File \u001b[0;32m<string>:3\u001b[0m, in \u001b[0;36mraise_from\u001b[0;34m(value, from_value)\u001b[0m\n",
      "File \u001b[0;32m/usr/local/lib/python3.12/dist-packages/urllib3/connectionpool.py:463\u001b[0m, in \u001b[0;36mHTTPConnectionPool._make_request\u001b[0;34m(self, conn, method, url, timeout, chunked, **httplib_request_kw)\u001b[0m\n\u001b[1;32m    460\u001b[0m \u001b[38;5;28;01mexcept\u001b[39;00m \u001b[38;5;167;01mTypeError\u001b[39;00m:\n\u001b[1;32m    461\u001b[0m     \u001b[38;5;66;03m# Python 3\u001b[39;00m\n\u001b[1;32m    462\u001b[0m     \u001b[38;5;28;01mtry\u001b[39;00m:\n\u001b[0;32m--> 463\u001b[0m         httplib_response \u001b[38;5;241m=\u001b[39m \u001b[43mconn\u001b[49m\u001b[38;5;241;43m.\u001b[39;49m\u001b[43mgetresponse\u001b[49m\u001b[43m(\u001b[49m\u001b[43m)\u001b[49m\n\u001b[1;32m    464\u001b[0m     \u001b[38;5;28;01mexcept\u001b[39;00m \u001b[38;5;167;01mBaseException\u001b[39;00m \u001b[38;5;28;01mas\u001b[39;00m e:\n\u001b[1;32m    465\u001b[0m         \u001b[38;5;66;03m# Remove the TypeError from the exception chain in\u001b[39;00m\n\u001b[1;32m    466\u001b[0m         \u001b[38;5;66;03m# Python 3 (including for exceptions like SystemExit).\u001b[39;00m\n\u001b[1;32m    467\u001b[0m         \u001b[38;5;66;03m# Otherwise it looks like a bug in the code.\u001b[39;00m\n\u001b[1;32m    468\u001b[0m         six\u001b[38;5;241m.\u001b[39mraise_from(e, \u001b[38;5;28;01mNone\u001b[39;00m)\n",
      "File \u001b[0;32m/usr/lib/python3.12/http/client.py:1428\u001b[0m, in \u001b[0;36mHTTPConnection.getresponse\u001b[0;34m(self)\u001b[0m\n\u001b[1;32m   1426\u001b[0m \u001b[38;5;28;01mtry\u001b[39;00m:\n\u001b[1;32m   1427\u001b[0m     \u001b[38;5;28;01mtry\u001b[39;00m:\n\u001b[0;32m-> 1428\u001b[0m         \u001b[43mresponse\u001b[49m\u001b[38;5;241;43m.\u001b[39;49m\u001b[43mbegin\u001b[49m\u001b[43m(\u001b[49m\u001b[43m)\u001b[49m\n\u001b[1;32m   1429\u001b[0m     \u001b[38;5;28;01mexcept\u001b[39;00m \u001b[38;5;167;01mConnectionError\u001b[39;00m:\n\u001b[1;32m   1430\u001b[0m         \u001b[38;5;28mself\u001b[39m\u001b[38;5;241m.\u001b[39mclose()\n",
      "File \u001b[0;32m/usr/lib/python3.12/http/client.py:331\u001b[0m, in \u001b[0;36mHTTPResponse.begin\u001b[0;34m(self)\u001b[0m\n\u001b[1;32m    329\u001b[0m \u001b[38;5;66;03m# read until we get a non-100 response\u001b[39;00m\n\u001b[1;32m    330\u001b[0m \u001b[38;5;28;01mwhile\u001b[39;00m \u001b[38;5;28;01mTrue\u001b[39;00m:\n\u001b[0;32m--> 331\u001b[0m     version, status, reason \u001b[38;5;241m=\u001b[39m \u001b[38;5;28;43mself\u001b[39;49m\u001b[38;5;241;43m.\u001b[39;49m\u001b[43m_read_status\u001b[49m\u001b[43m(\u001b[49m\u001b[43m)\u001b[49m\n\u001b[1;32m    332\u001b[0m     \u001b[38;5;28;01mif\u001b[39;00m status \u001b[38;5;241m!=\u001b[39m CONTINUE:\n\u001b[1;32m    333\u001b[0m         \u001b[38;5;28;01mbreak\u001b[39;00m\n",
      "File \u001b[0;32m/usr/lib/python3.12/http/client.py:292\u001b[0m, in \u001b[0;36mHTTPResponse._read_status\u001b[0;34m(self)\u001b[0m\n\u001b[1;32m    291\u001b[0m \u001b[38;5;28;01mdef\u001b[39;00m \u001b[38;5;21m_read_status\u001b[39m(\u001b[38;5;28mself\u001b[39m):\n\u001b[0;32m--> 292\u001b[0m     line \u001b[38;5;241m=\u001b[39m \u001b[38;5;28mstr\u001b[39m(\u001b[38;5;28;43mself\u001b[39;49m\u001b[38;5;241;43m.\u001b[39;49m\u001b[43mfp\u001b[49m\u001b[38;5;241;43m.\u001b[39;49m\u001b[43mreadline\u001b[49m\u001b[43m(\u001b[49m\u001b[43m_MAXLINE\u001b[49m\u001b[43m \u001b[49m\u001b[38;5;241;43m+\u001b[39;49m\u001b[43m \u001b[49m\u001b[38;5;241;43m1\u001b[39;49m\u001b[43m)\u001b[49m, \u001b[38;5;124m\"\u001b[39m\u001b[38;5;124miso-8859-1\u001b[39m\u001b[38;5;124m\"\u001b[39m)\n\u001b[1;32m    293\u001b[0m     \u001b[38;5;28;01mif\u001b[39;00m \u001b[38;5;28mlen\u001b[39m(line) \u001b[38;5;241m>\u001b[39m _MAXLINE:\n\u001b[1;32m    294\u001b[0m         \u001b[38;5;28;01mraise\u001b[39;00m LineTooLong(\u001b[38;5;124m\"\u001b[39m\u001b[38;5;124mstatus line\u001b[39m\u001b[38;5;124m\"\u001b[39m)\n",
      "File \u001b[0;32m/usr/lib/python3.12/socket.py:707\u001b[0m, in \u001b[0;36mSocketIO.readinto\u001b[0;34m(self, b)\u001b[0m\n\u001b[1;32m    705\u001b[0m \u001b[38;5;28;01mwhile\u001b[39;00m \u001b[38;5;28;01mTrue\u001b[39;00m:\n\u001b[1;32m    706\u001b[0m     \u001b[38;5;28;01mtry\u001b[39;00m:\n\u001b[0;32m--> 707\u001b[0m         \u001b[38;5;28;01mreturn\u001b[39;00m \u001b[38;5;28;43mself\u001b[39;49m\u001b[38;5;241;43m.\u001b[39;49m\u001b[43m_sock\u001b[49m\u001b[38;5;241;43m.\u001b[39;49m\u001b[43mrecv_into\u001b[49m\u001b[43m(\u001b[49m\u001b[43mb\u001b[49m\u001b[43m)\u001b[49m\n\u001b[1;32m    708\u001b[0m     \u001b[38;5;28;01mexcept\u001b[39;00m timeout:\n\u001b[1;32m    709\u001b[0m         \u001b[38;5;28mself\u001b[39m\u001b[38;5;241m.\u001b[39m_timeout_occurred \u001b[38;5;241m=\u001b[39m \u001b[38;5;28;01mTrue\u001b[39;00m\n",
      "\u001b[0;31mKeyboardInterrupt\u001b[0m: "
     ]
    }
   ],
   "source": [
    "import requests # HTTP 요청을 보내기 위한 라이브러리\n",
    "\n",
    "# Ollama 서버에 텍스트 생성 요청 보내기\n",
    "resp = requests.post(\n",
    "    \"http://127.0.0.1:11434/api/generate\",  # 로컬에서 실행 중인 Ollama 서버 주소\n",
    "    json={\"model\": \"gpt-oss:20b\", # 사용할 모델 이름\n",
    "          \"prompt\": \"장곡사 미륵불 괘불탱에 대해서 설명해줘.\", # 모델에 보낼 프롬프트\n",
    "          \"stream\": False},  # 스트리밍 모드 끄기 → 결과를 한 번에 받음\n",
    "    timeout=120,  # 최대 120초까지 대기 (모델이 크면 응답이 느릴 수 있음)\n",
    ")\n",
    "# 모델이 생성한 응답 텍스트 출력\n",
    "print(resp.json()[\"response\"])"
   ]
  },
  {
   "cell_type": "code",
   "execution_count": 23,
   "metadata": {},
   "outputs": [],
   "source": [
    "from langchain_ollama import ChatOllama\n",
    "from langchain_core.messages import SystemMessage, HumanMessage\n",
    "\n",
    "# Ollama 연결\n",
    "# LangChain의 LLM 인터페이스를 사용해 Ollama를 쉽게 불러오는 방법.\n",
    "# 내부적으로도 결국 requests로 Ollama API 호출하지만, LangChain이 포맷/파싱/스트리밍을 편하게 해줌.\n",
    "llm = ChatOllama(\n",
    "    base_url=\"http://localhost:11434\",  # ollama serve가 켜져 있는 주소\n",
    "    model=\"gpt-oss:20b\",\n",
    "    temperature=0.1,\n",
    "    num_ctx=2048,\n",
    ")\n",
    "\n",
    "# from langchain_community.llms import Ollama\n",
    "# from langchain_core.messages import SystemMessage, HumanMessage\n",
    "\n",
    "# llm = Ollama(\n",
    "#     base_url=\"http://127.0.0.1:11434\",  # ollama serve 실행 중인 주소\n",
    "#     model=\"gpt-oss:20b\",\n",
    "#     temperature=0.3,\n",
    "#     num_ctx=2048,\n",
    "# )"
   ]
  },
  {
   "cell_type": "code",
   "execution_count": 13,
   "metadata": {},
   "outputs": [
    {
     "name": "stdout",
     "output_type": "stream",
     "text": [
      "[GIN] 2025/09/15 - 15:22:55 | 200 | 42.936034303s |       127.0.0.1 | POST     \"/api/chat\"\n",
      "## 장곡사(장곡사)와 미륵불 괘불탱(미륵불 괘불탱)  \n",
      "\n",
      "### 1. 장곡사란?\n",
      "- **위치**: 경기도 가평군 장곡면(남한과 북한 경계인 비무장지대(DMZ) 근처)  \n",
      "- **역사**: 7세기(고려시대 이전) 삼국시대에 창건된 사찰로, 수세기 동안 여러 차례 파괴·재건을 거쳤습니다.  \n",
      "- **의의**: 비무장지대 인근에 위치해 있어 ‘평화와 통일’의 상징으로 자주 언급됩니다. 사찰 내부에는 고대 석조 건축물과 불교 유물들이 보존돼 있어 문화재로서의 가치가 큽니다.\n",
      "\n",
      "### 2. 미륵불 괘불탱이란?\n",
      "- **정의**: ‘괘불탱(괘불탱)’은 ‘석탑’ 또는 ‘석불탑’이라는 뜻으로, 석조로 만든 작은 탑형 구조물입니다.  \n",
      "- **미륵불**: 불교에서 ‘미륵보살’은 미래에 나타나 세상을 구원할 인물로, 미륵불은 미륵보살을 상징하는 불상입니다.  \n",
      "- **미륵불 괘불탱**: 장곡사에 보존된 미륵불을 주제로 한 5층 석조 탑입니다. 8세기(고려시대 이전) 건축으로 추정되며, 한국의 대표적인 고대 석조 건축물 중 하나입니다.\n",
      "\n",
      "### 3. 건축적 특징\n",
      "| 구분 | 내용 |\n",
      "|------|------|\n",
      "| **시대** | 8세기(고려시대 이전) |\n",
      "| **형태** | 5층 석조 탑 (각층이 점점 작아지는 형태) |\n",
      "| **재료** | 화강암(석재) |\n",
      "| **높이** | 약 3.5m(정확한 측정은 변동 가능) |\n",
      "| **특징** | 각 층마다 작은 돌문이 새겨져 있으며, 상단에는 작은 돌탑(탑형) 모양이 있습니다. 미륵불을 상징하는 조각이 없지만, 미륵보살의 상징적 의미가 담겨 있습니다. |\n",
      "\n",
      "### 4. 문화재 지정\n",
      "- **문화재 번호**: 국보 제112호  \n",
      "- **지정 이유**: 고대 석조 건축물로서 예술적·역사적 가치가 높으며, 장곡사의 대표 유물로서 한국 불교 문화의 중요한 부분을 형성합니다.\n",
      "\n",
      "### 5. 장곡사와 미륵불 괘불탱의 의미\n",
      "1. **평화와 통일의 상징**  \n",
      "   - 비무장지대 인근에 위치해 있어, 미륵보살이 전하는 ‘평화와 구원’의 메시지가 더욱 강조됩니다.  \n",
      "   - 사찰 방문객들은 이곳에서 평화의 기도를 드리며, 한반도 통일을 기원합니다.\n",
      "\n",
      "2. **불교 문화의 보존**  \n",
      "   - 미륵불 괘불탱은 고대 한국 불교 건축의 정수이며, 석조 예술의 정교함을 보여줍니다.  \n",
      "   - 장곡사 내부의 다른 유물(석불, 석탑, 석조 조각 등)과 함께 한국 불교의 역사와 발전 과정을 한눈에 볼 수 있습니다.\n",
      "\n",
      "3. **관광·교육적 가치**  \n",
      "   - 장곡사는 DMZ와 가까워서 ‘평화의 사찰’로 국내외 관광객에게 인기가 많습니다.  \n",
      "   - 미륵불 괘불탱은 학생·연구자에게 고대 석조 건축과 불교 예술을 연구할 수 있는 실물 자료를 제공합니다.\n",
      "\n",
      "### 6. 방문 팁\n",
      "- **교통**: 경기도 가평군 장곡면으로 가는 버스(가평·양평·인천 등)와 자가용이 가장 편리합니다.  \n",
      "- **입장료**: 사찰 입장료는 무료이며, 기부금은 사찰 운영에 사용됩니다.  \n",
      "- **주변**: DMZ 투어와 연계해 방문하면, 비무장지대와 장곡사의 역사적 배경을 동시에 체험할 수 있습니다.\n",
      "\n",
      "---\n",
      "\n",
      "**정리**  \n",
      "장곡사의 미륵불 괘불탱은 8세기 석조 탑으로, 미륵보살을 상징하는 불교 유물입니다. 국보 제112호로 지정된 이 탑은 한국 불교 건축의 정수이며, 비무장지대 인근에 위치해 평화와 통일의 상징으로서 큰 의미를 지닙니다. 장곡사와 미륵불 괘불탱은 한국의 문화유산과 불교 사상, 그리고 한반도 평화의 메시지를 동시에 전달하는 중요한 유적지입니다.\n"
     ]
    }
   ],
   "source": [
    "# 단일 메시지\n",
    "resp = llm.invoke(\"장곡사 미륵불 괘불탱에 대해서 설명해줘.\")\n",
    "print(resp.content)\n"
   ]
  },
  {
   "cell_type": "code",
   "execution_count": 18,
   "metadata": {},
   "outputs": [
    {
     "name": "stdout",
     "output_type": "stream",
     "text": [
      "[GIN] 2025/09/15 - 15:27:35 | 200 | 26.693870477s |       127.0.0.1 | POST     \"/api/chat\"\n",
      "## 장곡사(장곡사)와 미륵불·괘불탱(괘불탱) 개요\n",
      "\n",
      "| 항목 | 내용 |\n",
      "|------|------|\n",
      "| **위치** | 경기도 파주시 장곡면, 인천광역시와 경계에 인접한 한강(임진강) 인근 |\n",
      "| **설립 시기** | 7세기(고려 이전) 설립, 이후 수차례 재건 |\n",
      "| **문화재 등재** | 미륵불(국보 제123호), 괘불탱(국보 제124호) |\n",
      "| **주요 사찰 건물** | 대웅전(미륵불이 안치된 본당), 괘불탱(석탑), 사찰 복합 건물(종각, 사찰원 등) |\n",
      "\n",
      "---\n",
      "\n",
      "### 1. 장곡사의 역사와 문화적 의미\n",
      "\n",
      "- **고려시대의 미륵불 신앙**  \n",
      "  장곡사는 미륵불(미륵보살)을 중심으로 한 사찰로, 미륵보살이 인류를 구원할 미래의 부처라는 신앙이 강하게 자리 잡았습니다. 12세기 이후 미륵불이 대웅전 안에 안치되면서 장곡사는 미륵보살 신앙의 중심지로 부상했습니다.\n",
      "\n",
      "- **전쟁과 재건**  \n",
      "  20세기 초 일제강점기와 한국전쟁 시기에 사찰이 파괴되거나 훼손되었으나, 1950년대 이후 복원사업을 통해 현재의 모습을 되찾았습니다. 특히 1970년대에 국보 등재를 통해 보존이 강화되었습니다.\n",
      "\n",
      "- **현대의 역할**  \n",
      "  장곡사는 미륵보살 신앙을 계승하고, 한국 전통 불교 예술과 건축을 연구·전시하는 문화센터 역할도 수행합니다. 매년 미륵보살 축제(미륵보살제)가 열려 많은 신자와 관광객이 방문합니다.\n",
      "\n",
      "---\n",
      "\n",
      "### 2. 미륵불(국보 제123호)\n",
      "\n",
      "| 항목 | 내용 |\n",
      "|------|------|\n",
      "| **시대** | 고려 12세기(약 1200년경) |\n",
      "| **재료** | 대리석(또는 화강암) |\n",
      "| **크기** | 높이 약 1.5m, 무게 약 3톤 |\n",
      "| **특징** | 미륵보살이 손에 팔을 들고, 두 손에 팔을 올린 자세(팔을 올린 자세)로 서 있습니다. 미륵보살의 얼굴은 부드러운 미소와 함께 눈이 크게 그려져 있으며, 옷은 전통적인 미륵보살의 복장을 모티브로 한 장식이 돋보입니다. |\n",
      "| **예술적 가치** | 고려시대 조각의 정교함과 미륵보살 신앙의 상징성을 동시에 보여주는 대표작으로 평가됩니다. |\n",
      "\n",
      "---\n",
      "\n",
      "### 3. 괘불탱(국보 제124호)\n",
      "\n",
      "- **정의**  \n",
      "  괘불탱은 ‘석탑’ 또는 ‘석상탑’이라고도 불리며, 불교에서 부처의 성품과 가르침을 상징적으로 담은 구조물입니다. 장곡사의 괘불탱은 ‘미륵불 괘불탱’이라 불리며, 미륵보살의 상징적 의미를 담고 있습니다.\n",
      "\n",
      "| 항목 | 내용 |\n",
      "|------|------|\n",
      "| **시대** | 고려 13세기(약 1300년경) |\n",
      "| **재료** | 화강암 |\n",
      "| **구조** | 5층(또는 7층) 구조, 각 층마다 작은 돌문이 장식 |\n",
      "| **크기** | 높이 약 4m, 직경 약 1.2m |\n",
      "| **특징** | 각 층마다 미륵보살의 얼굴이 새겨진 작은 조각이 있으며, 탑 꼭대기에는 미륵보살의 상징인 ‘팔을 올린’ 모양의 조각이 있습니다. 탑의 외벽은 ‘괘’(八卦) 모양의 장식이 들어가 있어 ‘괘불탱’이라는 이름이 붙었습니다. |\n",
      "| **예술적 가치** | 고려시대 석조 건축의 정교함과 미륵보살 신앙의 상징성을 동시에 보여주는 대표적인 석탑입니다. |\n",
      "\n",
      "---\n",
      "\n",
      "### 4. 장곡사와 미륵불·괘불탱의 문화적 가치\n",
      "\n",
      "1. **불교 예술의 정수**  \n",
      "   미륵불과 괘불탱은 고려시대 불교 조각·건축의 정수를 보여주는 대표작으로, 한국 불교 예술 연구에 필수적인 자료입니다.\n",
      "\n",
      "2. **미륵보살 신앙의 상징**  \n",
      "   미륵보살은 ‘미래의 부처’라는 의미로, 장곡사는 미륵보살 신앙의 중심지로서 한국 불교 신앙의 변천사를 반영합니다.\n",
      "\n",
      "3. **문화재 보호와 교육**  \n",
      "   국보 등재를 통해 보존·복원 사업이 진행되었으며, 사찰 내부에 전시관을 설치해 일반인에게 불교 예술과 사찰 건축을 교육하고 있습니다.\n",
      "\n",
      "4. **관광·문화산업**  \n",
      "   장곡사는 미륵보살제와 함께 국내외 관광객에게 한국 전통 불교 문화 체험을 제공하며, 지역 경제 활성화에도 기여합니다.\n",
      "\n",
      "---\n",
      "\n",
      "### 5. 방문 팁\n",
      "\n",
      "| 항목 | 내용 |\n",
      "|------|------|\n",
      "| **오시는 길** | 파주 시내에서 버스(장곡사행) 또는 자가용(경부고속도로 파주IC → 장곡사입구) |\n",
      "| **입장료** | 사찰 내부 입장료는 무료(미륵불·괘불탱 전시관은 소정의 입장료가 부과될 수 있음) |\n",
      "| **주요 행사** | 미륵보살제(매년 12월 12일) – 미륵보살의 부활을 기념하는 대규모 행사 |\n",
      "| **관람 시간** | 사찰 내부는 9:00~18:00 (특정 기간은 조정될 수 있음) |\n",
      "| **주의 사항** | 사찰 내부는 신성한 공간이므로 사진 촬영 시 조용히, 예의 바르게 행동 |\n",
      "\n",
      "---\n",
      "\n",
      "### 6. 마무리\n",
      "\n",
      "장곡사의 미륵불과 괘불탱은 한국 불교 예술과 신앙의 깊이를 한눈에 보여주는 국보입니다. 이 두 작품은 고려시대의 석조 조각과 건축 기술을 대표하며, 미륵보살 신앙이 한국 불교 문화에 미친 영향을 잘 보여줍니다. 장곡사를 방문하면, 단순히 예술품을 감상하는 것을 넘어 한국 불교의 역사와 신앙을 체험할 수 있는 소중한 기회를 얻게 됩니다.\n"
     ]
    }
   ],
   "source": [
    "# 시스템 message / propmt (역할지정 / 명령어 지정) -> 이부분을 작성을 잘해야함. https://wikidocs.net/285650 (위키독스 진행)\n",
    "\n",
    "# llm = ChatOllama(base_url=\"http://127.0.0.1:11434\", model=\"gpt-oss:20b\", temperature=0.3)\n",
    "resp = llm.invoke([\n",
    "    SystemMessage(content=\"너는 AI 문화유산 스마트도슨트야.\"),\n",
    "    HumanMessage(content=\"장곡사 미륵불 괘불탱에 대해서 설명해줘.\"),\n",
    "])\n",
    "print(resp.content)"
   ]
  },
  {
   "cell_type": "markdown",
   "metadata": {},
   "source": [
    "### ollama - gemma3:27b"
   ]
  },
  {
   "cell_type": "code",
   "execution_count": 24,
   "metadata": {},
   "outputs": [],
   "source": [
    "# Ollama 연결\n",
    "llm1 = ChatOllama(\n",
    "    base_url=\"http://127.0.0.1:11434\",  # ollama serve가 켜져 있는 주소\n",
    "    model=\"gemma3:27b\",\n",
    "    temperature=0.1,\n",
    "    num_ctx=2048,\n",
    ")"
   ]
  },
  {
   "cell_type": "code",
   "execution_count": 20,
   "metadata": {},
   "outputs": [
    {
     "name": "stdout",
     "output_type": "stream",
     "text": [
      "[GIN] 2025/09/15 - 15:28:13 | 200 | 20.615460119s |       127.0.0.1 | POST     \"/api/chat\"\n",
      "장곡사 미륵불 괘불탱은 경상남도 거창군 북상면 장곡사에 있는 괘불탱으로, 조선 후기에 제작된 불교 회화의 걸작입니다. 괘불탱은 원래 절에서 중요한 의식을 치를 때 내걸어 놓는 그림으로, 장곡사 괘불탱은 특히 뛰어난 예술성과 역사적 가치를 인정받아 국보 제135호로 지정되었습니다.\n",
      "\n",
      "**주요 특징:**\n",
      "\n",
      "*   **미륵보살의 광대한 세계:** 괘불탱의 중심에는 미래에 인간 세계를 구제할 미륵보살이 웅장하게 자리 잡고 있습니다. 미륵보살은 화려한 보관을 쓰고, 온화한 미소를 짓고 있으며, 손에는 각각 지혜와 자비를 상징하는 물건을 들고 있습니다. 미륵보살 주변에는 다양한 보살과 천인, 그리고 극락 세계를 상징하는 연꽃과 구름 등이 섬세하게 묘사되어 있습니다.\n",
      "*   **화려하고 섬세한 채색:** 괘불탱은 밝고 화려한 오방색을 사용하여 미륵보살의 장엄함과 극락 세계의 아름다움을 표현합니다. 특히, 옷의 주름이나 보살의 표정 등은 매우 섬세하게 묘사되어 있어, 당시 불화 장인의 뛰어난 기량을 엿볼 수 있습니다.\n",
      "*   **조선 후기 불화의 특징:** 장곡사 괘불탱은 조선 후기 불화의 특징을 잘 보여줍니다. 즉, 사실적인 묘사보다는 이상적인 아름다움을 추구하고, 화려한 색채와 섬세한 문양을 사용하여 불교 세계의 신비로움을 표현합니다.\n",
      "*   **제작 배경:** 장곡사 괘불탱은 18세기 후반에 제작된 것으로 추정됩니다. 당시 장곡사는 조선 영남 지역의 중요한 불교 중심지였으며, 괘불탱은 절의 권위를 상징하고 불교 의식을 거행하는 데 중요한 역할을 했습니다.\n",
      "\n",
      "**장곡사 괘불탱 감상 포인트:**\n",
      "\n",
      "*   **미륵보살의 표정과 자세:** 미륵보살의 온화한 미소와 자비로운 눈빛, 그리고 편안한 자세를 통해 보살의 자애로운 마음을 느껴보세요.\n",
      "*   **보살과 천인의 다양한 모습:** 미륵보살 주변에 묘사된 보살과 천인들의 다양한 모습과 표정을 통해 불교 세계의 다채로움을 느껴보세요.\n",
      "*   **화려한 색채와 섬세한 문양:** 괘불탱에 사용된 화려한 색채와 섬세한 문양을 통해 당시 불화 장인의 뛰어난 기량을 감상해보세요.\n",
      "*   **괘불탱이 주는 종교적 의미:** 괘불탱은 단순한 그림이 아니라, 불교 신앙의 대상이자 구원의 상징입니다. 괘불탱을 통해 불교 세계의 신비로움과 종교적 의미를 느껴보세요.\n",
      "\n",
      "장곡사 괘불탱은 한국 불교 미술의 중요한 유산이자, 조선 후기 불화의 대표적인 걸작입니다. 장곡사를 방문하여 괘불탱을 직접 감상하고, 그 아름다움과 종교적 의미를 느껴보시길 바랍니다.\n"
     ]
    }
   ],
   "source": [
    "# 단일 메시지\n",
    "resp = llm1.invoke(\"장곡사 미륵불 괘불탱에 대해서 설명해줘.\")\n",
    "print(resp.content)"
   ]
  },
  {
   "cell_type": "code",
   "execution_count": 21,
   "metadata": {},
   "outputs": [
    {
     "name": "stdout",
     "output_type": "stream",
     "text": [
      "[GIN] 2025/09/15 - 15:28:51 | 200 | 26.613180367s |       127.0.0.1 | POST     \"/api/chat\"\n",
      "안녕하세요! AI 문화유산 스마트 도슨트입니다. 장곡사 미륵불 괘불탱에 대해 자세히 설명해 드리겠습니다.\n",
      "\n",
      "**장곡사 미륵불 괘불탱 (長谷寺 彌勒佛 掛佛탱)**\n",
      "\n",
      "*   **소장처:** 전라북도 정읍시 장곡사\n",
      "*   **지정:** 보물 제1358호 (2003년)\n",
      "*   **제작시기:** 조선 후기 (추정)\n",
      "*   **크기:** 가로 6.8m, 세로 10.3m\n",
      "*   **재료:** 비단\n",
      "\n",
      "**괘불탱이란?**\n",
      "\n",
      "괘불탱은 불교 의식 때 법당에 걸어놓는 대형 불화입니다. 넓은 비단에 그려져 있으며, 주로 석가모니불의 영산회상(靈山會上) 장면을 묘사합니다. 영산회상은 석가모니 부처가 깨달음을 얻은 영산에서 설법하는 모습을 그린 것으로, 많은 보살과 천신, 나한 등이 함께 등장하는 장엄한 장면입니다.\n",
      "\n",
      "**장곡사 미륵불 괘불탱의 특징**\n",
      "\n",
      "장곡사 미륵불 괘불탱은 다른 괘불탱들과 몇 가지 독특한 특징을 가지고 있습니다.\n",
      "\n",
      "*   **미륵불 중심:** 대부분의 괘불탱이 석가모니불을 중심으로 그려지는 반면, 이 괘불탱은 미륵불을 중심으로 조성되었다는 점이 특징적입니다. 미륵불은 미래에 내려와 중생을 구제할 부처로 여겨집니다.\n",
      "*   **화려하고 섬세한 표현:** 괘불탱 전체적으로 화려하고 섬세한 표현이 돋보입니다. 특히, 미륵불의 얼굴과 몸, 옷의 주름, 보살들의 표정과 몸짓 등이 정교하게 묘사되어 있습니다.\n",
      "*   **다양한 등장인물:** 미륵불을 중심으로 다양한 보살과 천신, 나한 등이 등장합니다. 이들은 각기 다른 자세와 표정을 통해 불교 세계의 다채로운 모습을 보여줍니다.\n",
      "*   **권위적이고 장엄한 분위기:** 괘불탱 전체적으로 권위적이고 장엄한 분위기가 느껴집니다. 이는 불교 의식에서 괘불탱이 갖는 신성한 의미를 반영합니다.\n",
      "\n",
      "**장곡사 괘불탱이 중요한 이유**\n",
      "\n",
      "장곡사 미륵불 괘불탱은 조선 후기 불화의 대표적인 걸작으로 평가받습니다. \n",
      "\n",
      "*   **미륵불 묘사의 희귀성:** 미륵불을 중심으로 한 괘불탱은 매우 드물어, 불교 미술사 연구에 중요한 자료가 됩니다.\n",
      "*   **뛰어난 예술적 가치:** 화려하고 섬세한 표현, 다채로운 등장인물, 장엄한 분위기 등 예술적 가치가 뛰어나다는 평가를 받습니다.\n",
      "*   **불교 신앙의 반영:** 괘불탱은 당시 불교 신앙의 모습과 사상을 반영하고 있습니다.\n",
      "\n",
      "**장곡사 괘불탱을 감상할 때**\n",
      "\n",
      "장곡사 괘불탱은 크기가 매우 크기 때문에 전체를 한눈에 담기 어렵습니다. \n",
      "\n",
      "*   **전체적인 구도:** 먼저 괘불탱 전체적인 구도를 살펴보세요. 미륵불을 중심으로 다양한 등장인물들이 어떻게 배치되어 있는지 확인해 보세요.\n",
      "*   **미륵불의 모습:** 미륵불의 얼굴 표정과 몸짓, 옷의 주름 등을 자세히 살펴보세요. 미륵불이 어떤 의미를 담고 있는지 생각해 보세요.\n",
      "*   **등장인물들의 의미:** 괘불탱에 등장하는 다양한 보살과 천신, 나한 등이 각각 어떤 의미를 가지고 있는지 알아보세요.\n",
      "*   **색채와 문양:** 괘불탱에 사용된 색채와 문양이 어떤 의미를 담고 있는지 생각해 보세요.\n",
      "\n",
      "장곡사 괘불탱은 단순한 그림이 아니라, 당시 사람들의 신앙과 예술혼이 담긴 소중한 문화유산입니다. 괘불탱을 감상하면서, 과거 사람들의 삶과 생각을 느껴보시기 바랍니다.\n",
      "\n",
      "더 궁금한 점이 있으시면 언제든지 질문해주세요.\n"
     ]
    }
   ],
   "source": [
    "resp = llm1.invoke([\n",
    "    SystemMessage(content=\"너는 AI 문화유산 스마트도슨트야.\"),\n",
    "    HumanMessage(content=\"장곡사 미륵불 괘불탱에 대해서 설명해줘.\"),\n",
    "])\n",
    "print(resp.content)"
   ]
  }
 ],
 "metadata": {
  "kernelspec": {
   "display_name": "Python 3",
   "language": "python",
   "name": "python3"
  },
  "language_info": {
   "codemirror_mode": {
    "name": "ipython",
    "version": 3
   },
   "file_extension": ".py",
   "mimetype": "text/x-python",
   "name": "python",
   "nbconvert_exporter": "python",
   "pygments_lexer": "ipython3",
   "version": "3.12.3"
  }
 },
 "nbformat": 4,
 "nbformat_minor": 2
}
